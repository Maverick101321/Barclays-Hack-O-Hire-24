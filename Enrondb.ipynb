{
  "nbformat": 4,
  "nbformat_minor": 0,
  "metadata": {
    "colab": {
      "provenance": []
    },
    "kernelspec": {
      "name": "python3",
      "display_name": "Python 3"
    },
    "language_info": {
      "name": "python"
    }
  },
  "cells": [
    {
      "cell_type": "code",
      "execution_count": null,
      "metadata": {
        "id": "zbegJfpZazVp"
      },
      "outputs": [],
      "source": [
        "import pandas as pd\n",
        "import numpy as np\n",
        "import matplotlib.pyplot as plt\n",
        "import seaborn as sns"
      ]
    },
    {
      "cell_type": "markdown",
      "source": [
        "## Exploring the Enron Email Dataset"
      ],
      "metadata": {
        "id": "sh1MPO3IdLzG"
      }
    },
    {
      "cell_type": "code",
      "source": [
        "df = pd.read_csv('emails.csv')"
      ],
      "metadata": {
        "id": "sVMaUI-qdGaL"
      },
      "execution_count": null,
      "outputs": []
    },
    {
      "cell_type": "code",
      "source": [
        "df.head()"
      ],
      "metadata": {
        "colab": {
          "base_uri": "https://localhost:8080/",
          "height": 206
        },
        "id": "XVO5hPWadQ0z",
        "outputId": "fbc139cf-4f1c-4b56-dbd6-3f024ea9aa29"
      },
      "execution_count": null,
      "outputs": [
        {
          "output_type": "execute_result",
          "data": {
            "text/plain": [
              "                       file                                            message\n",
              "0     allen-p/_sent_mail/1.  Message-ID: <18782981.1075855378110.JavaMail.e...\n",
              "1    allen-p/_sent_mail/10.  Message-ID: <15464986.1075855378456.JavaMail.e...\n",
              "2   allen-p/_sent_mail/100.  Message-ID: <24216240.1075855687451.JavaMail.e...\n",
              "3  allen-p/_sent_mail/1000.  Message-ID: <13505866.1075863688222.JavaMail.e...\n",
              "4  allen-p/_sent_mail/1001.  Message-ID: <30922949.1075863688243.JavaMail.e..."
            ],
            "text/html": [
              "\n",
              "  <div id=\"df-a858bbe2-06a3-4f47-bdb5-b03f426f930e\" class=\"colab-df-container\">\n",
              "    <div>\n",
              "<style scoped>\n",
              "    .dataframe tbody tr th:only-of-type {\n",
              "        vertical-align: middle;\n",
              "    }\n",
              "\n",
              "    .dataframe tbody tr th {\n",
              "        vertical-align: top;\n",
              "    }\n",
              "\n",
              "    .dataframe thead th {\n",
              "        text-align: right;\n",
              "    }\n",
              "</style>\n",
              "<table border=\"1\" class=\"dataframe\">\n",
              "  <thead>\n",
              "    <tr style=\"text-align: right;\">\n",
              "      <th></th>\n",
              "      <th>file</th>\n",
              "      <th>message</th>\n",
              "    </tr>\n",
              "  </thead>\n",
              "  <tbody>\n",
              "    <tr>\n",
              "      <th>0</th>\n",
              "      <td>allen-p/_sent_mail/1.</td>\n",
              "      <td>Message-ID: &lt;18782981.1075855378110.JavaMail.e...</td>\n",
              "    </tr>\n",
              "    <tr>\n",
              "      <th>1</th>\n",
              "      <td>allen-p/_sent_mail/10.</td>\n",
              "      <td>Message-ID: &lt;15464986.1075855378456.JavaMail.e...</td>\n",
              "    </tr>\n",
              "    <tr>\n",
              "      <th>2</th>\n",
              "      <td>allen-p/_sent_mail/100.</td>\n",
              "      <td>Message-ID: &lt;24216240.1075855687451.JavaMail.e...</td>\n",
              "    </tr>\n",
              "    <tr>\n",
              "      <th>3</th>\n",
              "      <td>allen-p/_sent_mail/1000.</td>\n",
              "      <td>Message-ID: &lt;13505866.1075863688222.JavaMail.e...</td>\n",
              "    </tr>\n",
              "    <tr>\n",
              "      <th>4</th>\n",
              "      <td>allen-p/_sent_mail/1001.</td>\n",
              "      <td>Message-ID: &lt;30922949.1075863688243.JavaMail.e...</td>\n",
              "    </tr>\n",
              "  </tbody>\n",
              "</table>\n",
              "</div>\n",
              "    <div class=\"colab-df-buttons\">\n",
              "\n",
              "  <div class=\"colab-df-container\">\n",
              "    <button class=\"colab-df-convert\" onclick=\"convertToInteractive('df-a858bbe2-06a3-4f47-bdb5-b03f426f930e')\"\n",
              "            title=\"Convert this dataframe to an interactive table.\"\n",
              "            style=\"display:none;\">\n",
              "\n",
              "  <svg xmlns=\"http://www.w3.org/2000/svg\" height=\"24px\" viewBox=\"0 -960 960 960\">\n",
              "    <path d=\"M120-120v-720h720v720H120Zm60-500h600v-160H180v160Zm220 220h160v-160H400v160Zm0 220h160v-160H400v160ZM180-400h160v-160H180v160Zm440 0h160v-160H620v160ZM180-180h160v-160H180v160Zm440 0h160v-160H620v160Z\"/>\n",
              "  </svg>\n",
              "    </button>\n",
              "\n",
              "  <style>\n",
              "    .colab-df-container {\n",
              "      display:flex;\n",
              "      gap: 12px;\n",
              "    }\n",
              "\n",
              "    .colab-df-convert {\n",
              "      background-color: #E8F0FE;\n",
              "      border: none;\n",
              "      border-radius: 50%;\n",
              "      cursor: pointer;\n",
              "      display: none;\n",
              "      fill: #1967D2;\n",
              "      height: 32px;\n",
              "      padding: 0 0 0 0;\n",
              "      width: 32px;\n",
              "    }\n",
              "\n",
              "    .colab-df-convert:hover {\n",
              "      background-color: #E2EBFA;\n",
              "      box-shadow: 0px 1px 2px rgba(60, 64, 67, 0.3), 0px 1px 3px 1px rgba(60, 64, 67, 0.15);\n",
              "      fill: #174EA6;\n",
              "    }\n",
              "\n",
              "    .colab-df-buttons div {\n",
              "      margin-bottom: 4px;\n",
              "    }\n",
              "\n",
              "    [theme=dark] .colab-df-convert {\n",
              "      background-color: #3B4455;\n",
              "      fill: #D2E3FC;\n",
              "    }\n",
              "\n",
              "    [theme=dark] .colab-df-convert:hover {\n",
              "      background-color: #434B5C;\n",
              "      box-shadow: 0px 1px 3px 1px rgba(0, 0, 0, 0.15);\n",
              "      filter: drop-shadow(0px 1px 2px rgba(0, 0, 0, 0.3));\n",
              "      fill: #FFFFFF;\n",
              "    }\n",
              "  </style>\n",
              "\n",
              "    <script>\n",
              "      const buttonEl =\n",
              "        document.querySelector('#df-a858bbe2-06a3-4f47-bdb5-b03f426f930e button.colab-df-convert');\n",
              "      buttonEl.style.display =\n",
              "        google.colab.kernel.accessAllowed ? 'block' : 'none';\n",
              "\n",
              "      async function convertToInteractive(key) {\n",
              "        const element = document.querySelector('#df-a858bbe2-06a3-4f47-bdb5-b03f426f930e');\n",
              "        const dataTable =\n",
              "          await google.colab.kernel.invokeFunction('convertToInteractive',\n",
              "                                                    [key], {});\n",
              "        if (!dataTable) return;\n",
              "\n",
              "        const docLinkHtml = 'Like what you see? Visit the ' +\n",
              "          '<a target=\"_blank\" href=https://colab.research.google.com/notebooks/data_table.ipynb>data table notebook</a>'\n",
              "          + ' to learn more about interactive tables.';\n",
              "        element.innerHTML = '';\n",
              "        dataTable['output_type'] = 'display_data';\n",
              "        await google.colab.output.renderOutput(dataTable, element);\n",
              "        const docLink = document.createElement('div');\n",
              "        docLink.innerHTML = docLinkHtml;\n",
              "        element.appendChild(docLink);\n",
              "      }\n",
              "    </script>\n",
              "  </div>\n",
              "\n",
              "\n",
              "<div id=\"df-08f20862-9f77-431e-9f26-8a9b940e3aef\">\n",
              "  <button class=\"colab-df-quickchart\" onclick=\"quickchart('df-08f20862-9f77-431e-9f26-8a9b940e3aef')\"\n",
              "            title=\"Suggest charts\"\n",
              "            style=\"display:none;\">\n",
              "\n",
              "<svg xmlns=\"http://www.w3.org/2000/svg\" height=\"24px\"viewBox=\"0 0 24 24\"\n",
              "     width=\"24px\">\n",
              "    <g>\n",
              "        <path d=\"M19 3H5c-1.1 0-2 .9-2 2v14c0 1.1.9 2 2 2h14c1.1 0 2-.9 2-2V5c0-1.1-.9-2-2-2zM9 17H7v-7h2v7zm4 0h-2V7h2v10zm4 0h-2v-4h2v4z\"/>\n",
              "    </g>\n",
              "</svg>\n",
              "  </button>\n",
              "\n",
              "<style>\n",
              "  .colab-df-quickchart {\n",
              "      --bg-color: #E8F0FE;\n",
              "      --fill-color: #1967D2;\n",
              "      --hover-bg-color: #E2EBFA;\n",
              "      --hover-fill-color: #174EA6;\n",
              "      --disabled-fill-color: #AAA;\n",
              "      --disabled-bg-color: #DDD;\n",
              "  }\n",
              "\n",
              "  [theme=dark] .colab-df-quickchart {\n",
              "      --bg-color: #3B4455;\n",
              "      --fill-color: #D2E3FC;\n",
              "      --hover-bg-color: #434B5C;\n",
              "      --hover-fill-color: #FFFFFF;\n",
              "      --disabled-bg-color: #3B4455;\n",
              "      --disabled-fill-color: #666;\n",
              "  }\n",
              "\n",
              "  .colab-df-quickchart {\n",
              "    background-color: var(--bg-color);\n",
              "    border: none;\n",
              "    border-radius: 50%;\n",
              "    cursor: pointer;\n",
              "    display: none;\n",
              "    fill: var(--fill-color);\n",
              "    height: 32px;\n",
              "    padding: 0;\n",
              "    width: 32px;\n",
              "  }\n",
              "\n",
              "  .colab-df-quickchart:hover {\n",
              "    background-color: var(--hover-bg-color);\n",
              "    box-shadow: 0 1px 2px rgba(60, 64, 67, 0.3), 0 1px 3px 1px rgba(60, 64, 67, 0.15);\n",
              "    fill: var(--button-hover-fill-color);\n",
              "  }\n",
              "\n",
              "  .colab-df-quickchart-complete:disabled,\n",
              "  .colab-df-quickchart-complete:disabled:hover {\n",
              "    background-color: var(--disabled-bg-color);\n",
              "    fill: var(--disabled-fill-color);\n",
              "    box-shadow: none;\n",
              "  }\n",
              "\n",
              "  .colab-df-spinner {\n",
              "    border: 2px solid var(--fill-color);\n",
              "    border-color: transparent;\n",
              "    border-bottom-color: var(--fill-color);\n",
              "    animation:\n",
              "      spin 1s steps(1) infinite;\n",
              "  }\n",
              "\n",
              "  @keyframes spin {\n",
              "    0% {\n",
              "      border-color: transparent;\n",
              "      border-bottom-color: var(--fill-color);\n",
              "      border-left-color: var(--fill-color);\n",
              "    }\n",
              "    20% {\n",
              "      border-color: transparent;\n",
              "      border-left-color: var(--fill-color);\n",
              "      border-top-color: var(--fill-color);\n",
              "    }\n",
              "    30% {\n",
              "      border-color: transparent;\n",
              "      border-left-color: var(--fill-color);\n",
              "      border-top-color: var(--fill-color);\n",
              "      border-right-color: var(--fill-color);\n",
              "    }\n",
              "    40% {\n",
              "      border-color: transparent;\n",
              "      border-right-color: var(--fill-color);\n",
              "      border-top-color: var(--fill-color);\n",
              "    }\n",
              "    60% {\n",
              "      border-color: transparent;\n",
              "      border-right-color: var(--fill-color);\n",
              "    }\n",
              "    80% {\n",
              "      border-color: transparent;\n",
              "      border-right-color: var(--fill-color);\n",
              "      border-bottom-color: var(--fill-color);\n",
              "    }\n",
              "    90% {\n",
              "      border-color: transparent;\n",
              "      border-bottom-color: var(--fill-color);\n",
              "    }\n",
              "  }\n",
              "</style>\n",
              "\n",
              "  <script>\n",
              "    async function quickchart(key) {\n",
              "      const quickchartButtonEl =\n",
              "        document.querySelector('#' + key + ' button');\n",
              "      quickchartButtonEl.disabled = true;  // To prevent multiple clicks.\n",
              "      quickchartButtonEl.classList.add('colab-df-spinner');\n",
              "      try {\n",
              "        const charts = await google.colab.kernel.invokeFunction(\n",
              "            'suggestCharts', [key], {});\n",
              "      } catch (error) {\n",
              "        console.error('Error during call to suggestCharts:', error);\n",
              "      }\n",
              "      quickchartButtonEl.classList.remove('colab-df-spinner');\n",
              "      quickchartButtonEl.classList.add('colab-df-quickchart-complete');\n",
              "    }\n",
              "    (() => {\n",
              "      let quickchartButtonEl =\n",
              "        document.querySelector('#df-08f20862-9f77-431e-9f26-8a9b940e3aef button');\n",
              "      quickchartButtonEl.style.display =\n",
              "        google.colab.kernel.accessAllowed ? 'block' : 'none';\n",
              "    })();\n",
              "  </script>\n",
              "</div>\n",
              "\n",
              "    </div>\n",
              "  </div>\n"
            ],
            "application/vnd.google.colaboratory.intrinsic+json": {
              "type": "dataframe",
              "variable_name": "df",
              "summary": "{\n  \"name\": \"df\",\n  \"rows\": 10744,\n  \"fields\": [\n    {\n      \"column\": \"file\",\n      \"properties\": {\n        \"dtype\": \"string\",\n        \"num_unique_values\": 10744,\n        \"samples\": [\n          \"arora-h/discussion_threads/28.\",\n          \"badeer-r/all_documents/5.\",\n          \"arnold-j/all_documents/265.\"\n        ],\n        \"semantic_type\": \"\",\n        \"description\": \"\"\n      }\n    },\n    {\n      \"column\": \"message\",\n      \"properties\": {\n        \"dtype\": \"string\",\n        \"num_unique_values\": 10744,\n        \"samples\": [\n          \"Message-ID: <28676990.1075848345305.JavaMail.evans@thyme>\\nDate: Mon, 22 Jan 2001 01:08:00 -0800 (PST)\\nFrom: raj.thapar@enron.com\\nTo: harry.arora@enron.com\\nSubject: McKinsey presentation\\nMime-Version: 1.0\\nContent-Type: text/plain; charset=us-ascii\\nContent-Transfer-Encoding: 7bit\\nX-From: Raj Thapar\\nX-To: Harry Arora\\nX-cc: \\nX-bcc: \\nX-Folder: \\\\Harpreet_Arora_Nov2001\\\\Notes Folders\\\\Discussion threads\\nX-Origin: ARORA-H\\nX-FileName: harora.nsf\\n\\nFYI\\n\\n\\n\",\n          \"Message-ID: <13115253.1075863587012.JavaMail.evans@thyme>\\nDate: Tue, 29 Aug 2000 11:18:00 -0700 (PDT)\\nFrom: david.forster@enron.com\\nTo: andrew.conner@enron.com, allan.ford@enron.com, adam.gross@enron.com, \\n\\tandrew.lewis@enron.com, andrea.ring@enron.com, \\n\\tbryan.garrett@enron.com, brian.hoskins@enron.com, \\n\\tbrad.mckay@enron.com, chad.clark@enron.com, chris.dorland@enron.com, \\n\\tchris.germany@enron.com, chris.lambie@enron.com, \\n\\tchristian.lebroc@enron.com, carey.metz@enron.com, \\n\\tdouglas.friedman@enron.com, dick.jenkins@enron.com, \\n\\tdan.junek@enron.com, darrin.morris@enron.com, daniel.reck@enron.com, \\n\\tdavid.redmond@enron.com, doug.gilbert-smith@enron.com, \\n\\terik.simpson@enron.com, elsa.villarreal@enron.com, \\n\\tfred.cohagan@enron.com, frank.ermis@enron.com, \\n\\tfred.lagrasta@enron.com, fletcher.sturm@enron.com, \\n\\tgabriel.fuzat@enron.com, george.hopley@enron.com, \\n\\tgeorge.mcclellan@enron.com, geoff.storey@enron.com, \\n\\tgreg.whalley@enron.com, george.wood@enron.com, greg.woulfe@enron.com, \\n\\tgrant.zimmerman@enron.com, harry.arora@enron.com, \\n\\thoward.levy@enron.com, hunter.shively@enron.com, \\n\\tjohn.arnold@enron.com, diana.scholtes@enron.com, \\n\\tjohn.berger@enron.com, john.bowman@enron.com, \\n\\tjohn.disturnal@enron.com, jim.fallon@enron.com, \\n\\tjohn.forney@enron.com, jim.goughary@enron.com, \\n\\tjay.hawthorn@enron.com, jared.kaiser@enron.com, \\n\\tjohn.massey@enron.com, jonathan.mckay@enron.com, \\n\\tjohn.mcpherson@enron.com, john.nowlan@enron.com, \\n\\tjeff.richter@enron.com, jeffrey.shankman@enron.com, \\n\\tjohn.suarez@enron.com, jane.tholt@enron.com, judy.townsend@enron.com, \\n\\tjohn.zufferli@enron.com, karla.compean@enron.com, \\n\\tkate.fraser@enron.com, keith.holst@enron.com, \\n\\tkevin.ruscitti@enron.com, kyle.schultz@enron.com, \\n\\tkelli.stevens@enron.com, kim.ward@enron.com, lee.jackson@enron.com, \\n\\tlarry.may@enron.com, matthew.arnold@enron.com, mike.carson@enron.com, \\n\\tmichael.cowan@enron.com, martin.cuilla@enron.com, \\n\\tmichael.etringer@enron.com, matthew.goering@enron.com, \\n\\tmike.grigsby@enron.com, moazzam.khoja@enron.com, \\n\\tmatthew.lenhart@enron.com, mike.maggi@enron.com, \\n\\tmatt.motley@enron.com, mike.swerzbin@enron.com, \\n\\tmark.tawney@enron.com, phillip.allen@enron.com, \\n\\tpaul.broderick@enron.com, phil.clifford@enron.com, \\n\\tpartho.ghosh@enron.com, peter.heintzelman@enron.com, \\n\\tpeter.keavey@enron.com, patrick.markey@enron.com, \\n\\tpatrice.mims@enron.com, paul.quilkey@enron.com, \\n\\tpaul.racicot@enron.com, pushkar.shahi@enron.com, \\n\\tpaul.smith@enron.com, robert.badeer@enron.com, robin.barbe@enron.com, \\n\\trobert.benson@enron.com, bob.crane@enron.com, rudy.dautel@enron.com, \\n\\trobert.fuller@enron.com, rob.mcdonald@enron.com, \\n\\trichard.schneider@enron.com, raymond.yeow@enron.com, \\n\\tsandra.brawner@enron.com, stephane.brodeur@enron.com, \\n\\tsean.crandall@enron.com, steve.elliott@enron.com, \\n\\tscott.hendrickson@enron.com, steven.kleege@enron.com, \\n\\tsarah.mulholland@enron.com, susan.pereira@enron.com, \\n\\tspencer.vosko@enron.com, tim.belden@enron.com, \\n\\ttheresa.branney@enron.com, terri.clynes@enron.com, \\n\\ttammi.depaolis@enron.com, tom.donohoe@enron.com, tom.dutta@enron.com, \\n\\ttori.kuykendall@enron.com, thomas.martin@enron.com, \\n\\twilliam.stuart@enron.com, mark.davis@enron.com, \\n\\tlarry.gagliardi@enron.com, alan.engberg@enron.com, \\n\\tjohn.lavorato@enron.com, adam.metry@enron.com, andy.zipper@enron.com, \\n\\tandy.zipper@enron.com, bhavna.pandya@enron.com, \\n\\tbill.berkeland@enron.com, bill.rust@enron.com, bill.white@enron.com, \\n\\tbrando.hayden@enron.com, caroline.abramo@enron.com, \\n\\tcorry.bentley@enron.com, craig.breslau@enron.com, \\n\\tcyntia.pastega@enron.com, danny.conner@enron.com, \\n\\tdaren.farmer@enron.com, dave.mangskau@enron.com, \\n\\tdavid.walsh@enron.com, derek.davies@enron.com, doug.miller@enron.com, \\n\\tdoug.paterson@enron.com, edward.baughman@enron.com, \\n\\tedward.gottlob@enron.com, ellen.su@enron.com, gary.taylor@enron.com, \\n\\tgerald.gilbert@enron.com, grant.oh@enron.com, \\n\\tgreg.mcclendon@enron.com, greg.woulfe@enron.com, \\n\\tgretchen.lotz@enron.com, janel.guerrero@enron.com, \\n\\tjanelle.scheuer@enron.com, jason.seigal@enron.com, \\n\\tjason.choate@enron.com, jay.hatfield@enron.com, \\n\\tjay.reitmeyer@enron.com, jay.webb@enron.com, \\n\\tjean-sebastien.fontaine@enron.com, jeff.king@enron.com, \\n\\tjeff.pearson@enron.com, jennifer.fraser@enron.com, \\n\\tjennifer.shipos@enron.com, jim.fallon@enron.com, \\n\\tjoseph.piotrowski@enron.com, john.llodra@enron.com, \\n\\tjohn.singer@enron.com, kevin.presto@enron.com, \\n\\tlaura.podurgiel@enron.com, lee.fascetti@enron.com, \\n\\tlisa.burnett@enron.com, lisa.deakin@enron.com, lisa.nemec@enron.com, \\n\\tmaria.valdes@enron.com, mark.rodriguez@enron.com, \\n\\tmark.fischer@enron.com, mark.smith@enron.com, mike.curry@enron.com, \\n\\tmonique.sanchez@enron.com, oscar.dalton@enron.com, \\n\\tpatrick.hanse@enron.com, paul.lucci@enron.com, \\n\\tpavel.zadorozhny@enron.com, richard.tomaski@enron.com, \\n\\trick.dietz@enron.com, doug.sewell@enron.com, \\n\\trogers.herndon@enron.com, rudy.acevedo@enron.com, s.story@enron.com, \\n\\tscott.goodell@enron.com, scott.neal@enron.com, \\n\\tshawn.cumberland@enron.com, stephen.klein@enron.com, \\n\\tsteve.crumley@enron.com, steven.curlee@enron.com, \\n\\tsteven.kleege@enron.com, steven.vu@enron.com, \\n\\tstewart.rosman@enron.com, susan.wood@enron.com, tk.lohman@enron.com, \\n\\ttim.heizenrader@enron.com, todd.richardson@enron.com, \\n\\ttom.alonso@enron.com, tom.may@enron.com, tom.swank@enron.com, \\n\\ttroy.black@enron.com, w.hicks@enron.com, zachary.sampson@enron.com, \\n\\tzal.masani@enron.com\\nSubject: EnronOnline Training Dates Change\\nCc: andy.zipper@enron.com, dave.samuels@enron.com, louise.kitchen@enron.com\\nMime-Version: 1.0\\nContent-Type: text/plain; charset=us-ascii\\nContent-Transfer-Encoding: 7bit\\nBcc: andy.zipper@enron.com, dave.samuels@enron.com, louise.kitchen@enron.com\\nX-From: David Forster\\nX-To: Andrew R Conner, Allan Ford, Adam Gross, Andrew H Lewis, Andrea Ring, Bryan Garrett, Brian Hoskins, Brad McKay, Chad Clark, Chris Dorland, Chris Germany, Chris Lambie, Christian LeBroc, Carey M Metz, Douglas S Friedman, Dick Jenkins, Dan Junek, Darrin Morris, Daniel Reck, David Redmond, Doug Gilbert-Smith, Erik Simpson, Elsa Villarreal, Fred Cohagan, Frank Ermis, Fred Lagrasta, Fletcher J Sturm, Gabriel Fuzat, George Hopley, George McClellan, Geoff Storey, Greg Whalley, George Wood, Greg Woulfe, Grant Zimmerman, Harry Arora, Howard Levy, Hunter S Shively, John Arnold, Diana Scholtes, John Berger, John E Bowman, John Disturnal, Jim Fallon, John M Forney, Jim Goughary, Jay Hawthorn, Jared Kaiser, John Massey, Jonathan McKay, John McPherson, John L Nowlan, Jeff Richter, Jeffrey A Shankman, John D Suarez, Jane M Tholt, Judy Townsend, John Zufferli, Karla Compean, Kate Fraser, Keith Holst, Kevin Ruscitti, Kyle Schultz, Kelli Stevens, Kim Ward, Lee Jackson, Larry May, Matthew Arnold, Mike Carson, Michael Cowan, Martin Cuilla, Michael Etringer, Matthew Goering, Mike Grigsby, Moazzam Khoja, Matthew Lenhart, Mike Maggi, Matt Motley, Mike Swerzbin, Mark Tawney, Phillip K Allen, Paul J Broderick, Phil Clifford, Partho Ghosh, Peter Heintzelman, Peter F Keavey, Patrick Markey, Patrice L Mims, Paul Quilkey, Paul Racicot, Pushkar Shahi, Paul Smith, Robert Badeer, Robin Barbe, Robert Benson, Bob Crane, Rudy Dautel, Robert Fuller, Rob McDonald, Richard Schneider, Raymond Yeow, Sandra F Brawner, Stephane Brodeur, Sean Crandall, Steve Elliott, Scott Hendrickson, Steven Kleege, Sarah Mulholland, Susan W Pereira, Spencer Vosko, Tim Belden, Theresa Branney, Terri Clynes, Tammi DePaolis, Tom Donohoe, Tom Dutta, Tori Kuykendall, Thomas A Martin, William Stuart, Mark Dana Davis, Larry Gagliardi, Alan Engberg, John J Lavorato, Adam Metry, Andy Zipper, Andy Zipper, Bhavna Pandya, Bill Berkeland, Bill Rust, Bill White, Brando Hayden, Caroline Abramo, Corry Bentley, Craig Breslau, Cyntia Pastega, Danny Conner, Daren J Farmer, Dave Mangskau, David Walsh, Derek Davies, Doug Miller, Doug Paterson, Edward D Baughman, Edward D Gottlob, Ellen Su, Gary Taylor, Gerald Gilbert, Grant Oh, Greg McClendon, Greg Woulfe, Gretchen Lotz, Janel Guerrero, Janelle Scheuer, Jason Seigal, Jason Choate, Jay Hatfield, Jay Reitmeyer, Jay Webb, Jean-Sebastien Fontaine, Jeff King, Jeff Pearson, Jennifer Fraser, Jennifer Shipos, Jim Fallon, Joseph Piotrowski, John Llodra, John M Singer, Kevin M Presto, Laura Podurgiel, Lee Fascetti, Lisa Burnett, Lisa Deakin, Lisa Nemec, Maria Valdes, Mark Anthony Rodriguez, Mark Fischer, Mark Smith, Mike Curry, Monique Sanchez, Oscar Dalton, Patrick Hanse, Paul T Lucci, Pavel Zadorozhny, Richard Tomaski, Rick Dietz, Doug Sewell, Rogers Herndon, Rudy Acevedo, S Craig Story, Scott Goodell, Scott Neal, Shawn Cumberland, Stephen Klein, Steve Crumley, Steven Curlee, Steven Kleege, Steven Vu, Stewart Rosman, Susan Wood, TK Lohman, Tim Heizenrader, Todd Richardson, Tom Alonso, Tom May, Tom Swank, Troy Black, W Wade Hicks, Zachary Sampson, Zal Masani\\nX-cc: Andy Zipper, Dave Samuels, Louise Kitchen\\nX-bcc: \\nX-Folder: \\\\Robert_Badeer_Aug2000\\\\Notes Folders\\\\All documents\\nX-Origin: Badeer-R\\nX-FileName: rbadeer.nsf\\n\\nPlease note that the EnronOnline Phase 2 training sessions scheduled for \\nWednesday and Thursday of this week have been rescheduled to ensure that the \\ntraining sessions include both the new website and the new Stack Manager \\nfunctionality for Price Limit Orders.\\n\\nThe rescheduled dates are as follows:\\n\\n\\nHouston\\n\\nSession 1 - Tuesday, Sept. 5 3:00 EB568.   \\nSession 2 - Thursday, Sept. 7 4:00 EB568\\n\\n\\nAll Other Offices\\n\\nPlease contact Tammie Schoppe at 713 853 4220 to book a session. Note that \\nsessions for European traders will be announced separately.\\n\\n\\nIf you have any questions about the above, please contact Dave Samuels at 713 \\n853 6931 or myself at 713 853 1861.\",\n          \"Message-ID: <23488807.1075857573141.JavaMail.evans@thyme>\\nDate: Tue, 24 Oct 2000 09:07:00 -0700 (PDT)\\nFrom: john.arnold@enron.com\\nTo: tammy.shepperd@enron.com\\nSubject: Re: Gas Org Chart\\nMime-Version: 1.0\\nContent-Type: text/plain; charset=us-ascii\\nContent-Transfer-Encoding: 7bit\\nX-From: John Arnold\\nX-To: Tammy R Shepperd\\nX-cc: \\nX-bcc: \\nX-Folder: \\\\John_Arnold_Dec2000\\\\Notes Folders\\\\All documents\\nX-Origin: Arnold-J\\nX-FileName: Jarnold.nsf\\n\\nBrian Hoskins is an analyst who rotated off the gas floor.\\nPete Keavey now reports to Scott Neal\\n\\nMy aa is Ina Rangel\\n\\n\\n   \\n\\tEnron North America Corp.\\n\\t\\n\\tFrom:  Tammy R Shepperd                           10/24/2000 08:06 AM\\n\\t\\n\\nTo: John Arnold/HOU/ECT@ECT\\ncc:  \\nSubject: Gas Org Chart\\n\\nJohn, \\nDo you have any changes or vacancies?  Also who is your administrative \\nassistant?\\n\\n\\n\\n\\nThanks,\\nTammy\\nx36589\\n---------------------- Forwarded by Tammy R Shepperd/HOU/ECT on 10/24/2000 \\n08:06 AM ---------------------------\\n   \\n\\tEnron North America Corp.\\n\\t\\n\\tFrom:  Tammy R Shepperd                           10/23/2000 01:02 PM\\n\\t\\n\\nTo: John Arnold/HOU/ECT@ECT\\ncc:  \\nSubject: Gas Org Chart\\n\\nJohn,\\n\\nAttached is the org chart with updates I have received to date.  Please \\nreview your organization and advise if you have changes.\\n\\nI'd like to give Dave and John updates this evening.\\n\\nThanks,\\nTammy\\n\\n\\n\\n\\n\\n\"\n        ],\n        \"semantic_type\": \"\",\n        \"description\": \"\"\n      }\n    }\n  ]\n}"
            }
          },
          "metadata": {},
          "execution_count": 4
        }
      ]
    },
    {
      "cell_type": "markdown",
      "source": [
        "## Extracting the details of the mail from the message"
      ],
      "metadata": {
        "id": "EcahJUrudtLB"
      }
    },
    {
      "cell_type": "code",
      "source": [
        "import pandas as pd\n",
        "import email\n",
        "\n",
        "# Assuming 'df' is your DataFrame with the 'message' column\n",
        "def parse_email(message):\n",
        "    msg = email.message_from_string(message)\n",
        "    return {\n",
        "        'Message-ID': msg['Message-ID'],\n",
        "        'Date': msg['Date'],\n",
        "        'From': msg['From'],\n",
        "        'To': msg['To'],\n",
        "        'Subject': msg['Subject'],\n",
        "        'Body': msg.get_payload()\n",
        "    }\n",
        "\n",
        "# Apply the parsing function to the 'message' column\n",
        "parsed_emails = df['message'].apply(parse_email)\n",
        "\n",
        "# Convert the parsed emails into a DataFrame\n",
        "emails_df = pd.DataFrame(parsed_emails.tolist())\n",
        "\n",
        "# Concatenate the new DataFrame with the original one\n",
        "final_df = pd.concat([df, emails_df], axis=1)\n",
        "\n",
        "# Drop the original 'message' column\n",
        "final_df.drop('message', axis=1, inplace=True)"
      ],
      "metadata": {
        "id": "DZawTAatdhgj"
      },
      "execution_count": null,
      "outputs": []
    },
    {
      "cell_type": "code",
      "source": [
        "final_df.head()"
      ],
      "metadata": {
        "colab": {
          "base_uri": "https://localhost:8080/",
          "height": 660
        },
        "id": "pct-SfOad26V",
        "outputId": "8ec7844a-1af7-4aeb-f6b0-a045635647f0"
      },
      "execution_count": null,
      "outputs": [
        {
          "output_type": "execute_result",
          "data": {
            "text/plain": [
              "                       file                                     Message-ID  \\\n",
              "0     allen-p/_sent_mail/1.  <18782981.1075855378110.JavaMail.evans@thyme>   \n",
              "1    allen-p/_sent_mail/10.  <15464986.1075855378456.JavaMail.evans@thyme>   \n",
              "2   allen-p/_sent_mail/100.  <24216240.1075855687451.JavaMail.evans@thyme>   \n",
              "3  allen-p/_sent_mail/1000.  <13505866.1075863688222.JavaMail.evans@thyme>   \n",
              "4  allen-p/_sent_mail/1001.  <30922949.1075863688243.JavaMail.evans@thyme>   \n",
              "\n",
              "                                    Date                     From  \\\n",
              "0  Mon, 14 May 2001 16:39:00 -0700 (PDT)  phillip.allen@enron.com   \n",
              "1   Fri, 4 May 2001 13:51:00 -0700 (PDT)  phillip.allen@enron.com   \n",
              "2  Wed, 18 Oct 2000 03:00:00 -0700 (PDT)  phillip.allen@enron.com   \n",
              "3  Mon, 23 Oct 2000 06:13:00 -0700 (PDT)  phillip.allen@enron.com   \n",
              "4  Thu, 31 Aug 2000 05:07:00 -0700 (PDT)  phillip.allen@enron.com   \n",
              "\n",
              "                        To    Subject  \\\n",
              "0     tim.belden@enron.com              \n",
              "1  john.lavorato@enron.com        Re:   \n",
              "2   leah.arsdall@enron.com   Re: test   \n",
              "3    randall.gay@enron.com              \n",
              "4     greg.piper@enron.com  Re: Hello   \n",
              "\n",
              "                                                Body  \n",
              "0                          Here is our forecast\\n\\n   \n",
              "1  Traveling to have a business meeting takes the...  \n",
              "2                     test successful.  way to go!!!  \n",
              "3  Randy,\\n\\n Can you send me a schedule of the s...  \n",
              "4                Let's shoot for Tuesday at 11:45.    "
            ],
            "text/html": [
              "\n",
              "  <div id=\"df-fda2e389-60d3-41dd-b8f2-ce8ba2df866a\" class=\"colab-df-container\">\n",
              "    <div>\n",
              "<style scoped>\n",
              "    .dataframe tbody tr th:only-of-type {\n",
              "        vertical-align: middle;\n",
              "    }\n",
              "\n",
              "    .dataframe tbody tr th {\n",
              "        vertical-align: top;\n",
              "    }\n",
              "\n",
              "    .dataframe thead th {\n",
              "        text-align: right;\n",
              "    }\n",
              "</style>\n",
              "<table border=\"1\" class=\"dataframe\">\n",
              "  <thead>\n",
              "    <tr style=\"text-align: right;\">\n",
              "      <th></th>\n",
              "      <th>file</th>\n",
              "      <th>Message-ID</th>\n",
              "      <th>Date</th>\n",
              "      <th>From</th>\n",
              "      <th>To</th>\n",
              "      <th>Subject</th>\n",
              "      <th>Body</th>\n",
              "    </tr>\n",
              "  </thead>\n",
              "  <tbody>\n",
              "    <tr>\n",
              "      <th>0</th>\n",
              "      <td>allen-p/_sent_mail/1.</td>\n",
              "      <td>&lt;18782981.1075855378110.JavaMail.evans@thyme&gt;</td>\n",
              "      <td>Mon, 14 May 2001 16:39:00 -0700 (PDT)</td>\n",
              "      <td>phillip.allen@enron.com</td>\n",
              "      <td>tim.belden@enron.com</td>\n",
              "      <td></td>\n",
              "      <td>Here is our forecast\\n\\n</td>\n",
              "    </tr>\n",
              "    <tr>\n",
              "      <th>1</th>\n",
              "      <td>allen-p/_sent_mail/10.</td>\n",
              "      <td>&lt;15464986.1075855378456.JavaMail.evans@thyme&gt;</td>\n",
              "      <td>Fri, 4 May 2001 13:51:00 -0700 (PDT)</td>\n",
              "      <td>phillip.allen@enron.com</td>\n",
              "      <td>john.lavorato@enron.com</td>\n",
              "      <td>Re:</td>\n",
              "      <td>Traveling to have a business meeting takes the...</td>\n",
              "    </tr>\n",
              "    <tr>\n",
              "      <th>2</th>\n",
              "      <td>allen-p/_sent_mail/100.</td>\n",
              "      <td>&lt;24216240.1075855687451.JavaMail.evans@thyme&gt;</td>\n",
              "      <td>Wed, 18 Oct 2000 03:00:00 -0700 (PDT)</td>\n",
              "      <td>phillip.allen@enron.com</td>\n",
              "      <td>leah.arsdall@enron.com</td>\n",
              "      <td>Re: test</td>\n",
              "      <td>test successful.  way to go!!!</td>\n",
              "    </tr>\n",
              "    <tr>\n",
              "      <th>3</th>\n",
              "      <td>allen-p/_sent_mail/1000.</td>\n",
              "      <td>&lt;13505866.1075863688222.JavaMail.evans@thyme&gt;</td>\n",
              "      <td>Mon, 23 Oct 2000 06:13:00 -0700 (PDT)</td>\n",
              "      <td>phillip.allen@enron.com</td>\n",
              "      <td>randall.gay@enron.com</td>\n",
              "      <td></td>\n",
              "      <td>Randy,\\n\\n Can you send me a schedule of the s...</td>\n",
              "    </tr>\n",
              "    <tr>\n",
              "      <th>4</th>\n",
              "      <td>allen-p/_sent_mail/1001.</td>\n",
              "      <td>&lt;30922949.1075863688243.JavaMail.evans@thyme&gt;</td>\n",
              "      <td>Thu, 31 Aug 2000 05:07:00 -0700 (PDT)</td>\n",
              "      <td>phillip.allen@enron.com</td>\n",
              "      <td>greg.piper@enron.com</td>\n",
              "      <td>Re: Hello</td>\n",
              "      <td>Let's shoot for Tuesday at 11:45.</td>\n",
              "    </tr>\n",
              "  </tbody>\n",
              "</table>\n",
              "</div>\n",
              "    <div class=\"colab-df-buttons\">\n",
              "\n",
              "  <div class=\"colab-df-container\">\n",
              "    <button class=\"colab-df-convert\" onclick=\"convertToInteractive('df-fda2e389-60d3-41dd-b8f2-ce8ba2df866a')\"\n",
              "            title=\"Convert this dataframe to an interactive table.\"\n",
              "            style=\"display:none;\">\n",
              "\n",
              "  <svg xmlns=\"http://www.w3.org/2000/svg\" height=\"24px\" viewBox=\"0 -960 960 960\">\n",
              "    <path d=\"M120-120v-720h720v720H120Zm60-500h600v-160H180v160Zm220 220h160v-160H400v160Zm0 220h160v-160H400v160ZM180-400h160v-160H180v160Zm440 0h160v-160H620v160ZM180-180h160v-160H180v160Zm440 0h160v-160H620v160Z\"/>\n",
              "  </svg>\n",
              "    </button>\n",
              "\n",
              "  <style>\n",
              "    .colab-df-container {\n",
              "      display:flex;\n",
              "      gap: 12px;\n",
              "    }\n",
              "\n",
              "    .colab-df-convert {\n",
              "      background-color: #E8F0FE;\n",
              "      border: none;\n",
              "      border-radius: 50%;\n",
              "      cursor: pointer;\n",
              "      display: none;\n",
              "      fill: #1967D2;\n",
              "      height: 32px;\n",
              "      padding: 0 0 0 0;\n",
              "      width: 32px;\n",
              "    }\n",
              "\n",
              "    .colab-df-convert:hover {\n",
              "      background-color: #E2EBFA;\n",
              "      box-shadow: 0px 1px 2px rgba(60, 64, 67, 0.3), 0px 1px 3px 1px rgba(60, 64, 67, 0.15);\n",
              "      fill: #174EA6;\n",
              "    }\n",
              "\n",
              "    .colab-df-buttons div {\n",
              "      margin-bottom: 4px;\n",
              "    }\n",
              "\n",
              "    [theme=dark] .colab-df-convert {\n",
              "      background-color: #3B4455;\n",
              "      fill: #D2E3FC;\n",
              "    }\n",
              "\n",
              "    [theme=dark] .colab-df-convert:hover {\n",
              "      background-color: #434B5C;\n",
              "      box-shadow: 0px 1px 3px 1px rgba(0, 0, 0, 0.15);\n",
              "      filter: drop-shadow(0px 1px 2px rgba(0, 0, 0, 0.3));\n",
              "      fill: #FFFFFF;\n",
              "    }\n",
              "  </style>\n",
              "\n",
              "    <script>\n",
              "      const buttonEl =\n",
              "        document.querySelector('#df-fda2e389-60d3-41dd-b8f2-ce8ba2df866a button.colab-df-convert');\n",
              "      buttonEl.style.display =\n",
              "        google.colab.kernel.accessAllowed ? 'block' : 'none';\n",
              "\n",
              "      async function convertToInteractive(key) {\n",
              "        const element = document.querySelector('#df-fda2e389-60d3-41dd-b8f2-ce8ba2df866a');\n",
              "        const dataTable =\n",
              "          await google.colab.kernel.invokeFunction('convertToInteractive',\n",
              "                                                    [key], {});\n",
              "        if (!dataTable) return;\n",
              "\n",
              "        const docLinkHtml = 'Like what you see? Visit the ' +\n",
              "          '<a target=\"_blank\" href=https://colab.research.google.com/notebooks/data_table.ipynb>data table notebook</a>'\n",
              "          + ' to learn more about interactive tables.';\n",
              "        element.innerHTML = '';\n",
              "        dataTable['output_type'] = 'display_data';\n",
              "        await google.colab.output.renderOutput(dataTable, element);\n",
              "        const docLink = document.createElement('div');\n",
              "        docLink.innerHTML = docLinkHtml;\n",
              "        element.appendChild(docLink);\n",
              "      }\n",
              "    </script>\n",
              "  </div>\n",
              "\n",
              "\n",
              "<div id=\"df-783a569e-28d5-443f-bd2f-a4aa30ef840d\">\n",
              "  <button class=\"colab-df-quickchart\" onclick=\"quickchart('df-783a569e-28d5-443f-bd2f-a4aa30ef840d')\"\n",
              "            title=\"Suggest charts\"\n",
              "            style=\"display:none;\">\n",
              "\n",
              "<svg xmlns=\"http://www.w3.org/2000/svg\" height=\"24px\"viewBox=\"0 0 24 24\"\n",
              "     width=\"24px\">\n",
              "    <g>\n",
              "        <path d=\"M19 3H5c-1.1 0-2 .9-2 2v14c0 1.1.9 2 2 2h14c1.1 0 2-.9 2-2V5c0-1.1-.9-2-2-2zM9 17H7v-7h2v7zm4 0h-2V7h2v10zm4 0h-2v-4h2v4z\"/>\n",
              "    </g>\n",
              "</svg>\n",
              "  </button>\n",
              "\n",
              "<style>\n",
              "  .colab-df-quickchart {\n",
              "      --bg-color: #E8F0FE;\n",
              "      --fill-color: #1967D2;\n",
              "      --hover-bg-color: #E2EBFA;\n",
              "      --hover-fill-color: #174EA6;\n",
              "      --disabled-fill-color: #AAA;\n",
              "      --disabled-bg-color: #DDD;\n",
              "  }\n",
              "\n",
              "  [theme=dark] .colab-df-quickchart {\n",
              "      --bg-color: #3B4455;\n",
              "      --fill-color: #D2E3FC;\n",
              "      --hover-bg-color: #434B5C;\n",
              "      --hover-fill-color: #FFFFFF;\n",
              "      --disabled-bg-color: #3B4455;\n",
              "      --disabled-fill-color: #666;\n",
              "  }\n",
              "\n",
              "  .colab-df-quickchart {\n",
              "    background-color: var(--bg-color);\n",
              "    border: none;\n",
              "    border-radius: 50%;\n",
              "    cursor: pointer;\n",
              "    display: none;\n",
              "    fill: var(--fill-color);\n",
              "    height: 32px;\n",
              "    padding: 0;\n",
              "    width: 32px;\n",
              "  }\n",
              "\n",
              "  .colab-df-quickchart:hover {\n",
              "    background-color: var(--hover-bg-color);\n",
              "    box-shadow: 0 1px 2px rgba(60, 64, 67, 0.3), 0 1px 3px 1px rgba(60, 64, 67, 0.15);\n",
              "    fill: var(--button-hover-fill-color);\n",
              "  }\n",
              "\n",
              "  .colab-df-quickchart-complete:disabled,\n",
              "  .colab-df-quickchart-complete:disabled:hover {\n",
              "    background-color: var(--disabled-bg-color);\n",
              "    fill: var(--disabled-fill-color);\n",
              "    box-shadow: none;\n",
              "  }\n",
              "\n",
              "  .colab-df-spinner {\n",
              "    border: 2px solid var(--fill-color);\n",
              "    border-color: transparent;\n",
              "    border-bottom-color: var(--fill-color);\n",
              "    animation:\n",
              "      spin 1s steps(1) infinite;\n",
              "  }\n",
              "\n",
              "  @keyframes spin {\n",
              "    0% {\n",
              "      border-color: transparent;\n",
              "      border-bottom-color: var(--fill-color);\n",
              "      border-left-color: var(--fill-color);\n",
              "    }\n",
              "    20% {\n",
              "      border-color: transparent;\n",
              "      border-left-color: var(--fill-color);\n",
              "      border-top-color: var(--fill-color);\n",
              "    }\n",
              "    30% {\n",
              "      border-color: transparent;\n",
              "      border-left-color: var(--fill-color);\n",
              "      border-top-color: var(--fill-color);\n",
              "      border-right-color: var(--fill-color);\n",
              "    }\n",
              "    40% {\n",
              "      border-color: transparent;\n",
              "      border-right-color: var(--fill-color);\n",
              "      border-top-color: var(--fill-color);\n",
              "    }\n",
              "    60% {\n",
              "      border-color: transparent;\n",
              "      border-right-color: var(--fill-color);\n",
              "    }\n",
              "    80% {\n",
              "      border-color: transparent;\n",
              "      border-right-color: var(--fill-color);\n",
              "      border-bottom-color: var(--fill-color);\n",
              "    }\n",
              "    90% {\n",
              "      border-color: transparent;\n",
              "      border-bottom-color: var(--fill-color);\n",
              "    }\n",
              "  }\n",
              "</style>\n",
              "\n",
              "  <script>\n",
              "    async function quickchart(key) {\n",
              "      const quickchartButtonEl =\n",
              "        document.querySelector('#' + key + ' button');\n",
              "      quickchartButtonEl.disabled = true;  // To prevent multiple clicks.\n",
              "      quickchartButtonEl.classList.add('colab-df-spinner');\n",
              "      try {\n",
              "        const charts = await google.colab.kernel.invokeFunction(\n",
              "            'suggestCharts', [key], {});\n",
              "      } catch (error) {\n",
              "        console.error('Error during call to suggestCharts:', error);\n",
              "      }\n",
              "      quickchartButtonEl.classList.remove('colab-df-spinner');\n",
              "      quickchartButtonEl.classList.add('colab-df-quickchart-complete');\n",
              "    }\n",
              "    (() => {\n",
              "      let quickchartButtonEl =\n",
              "        document.querySelector('#df-783a569e-28d5-443f-bd2f-a4aa30ef840d button');\n",
              "      quickchartButtonEl.style.display =\n",
              "        google.colab.kernel.accessAllowed ? 'block' : 'none';\n",
              "    })();\n",
              "  </script>\n",
              "</div>\n",
              "\n",
              "    </div>\n",
              "  </div>\n"
            ],
            "application/vnd.google.colaboratory.intrinsic+json": {
              "type": "dataframe",
              "variable_name": "final_df",
              "summary": "{\n  \"name\": \"final_df\",\n  \"rows\": 10744,\n  \"fields\": [\n    {\n      \"column\": \"file\",\n      \"properties\": {\n        \"dtype\": \"string\",\n        \"num_unique_values\": 10744,\n        \"samples\": [\n          \"arora-h/discussion_threads/28.\",\n          \"badeer-r/all_documents/5.\",\n          \"arnold-j/all_documents/265.\"\n        ],\n        \"semantic_type\": \"\",\n        \"description\": \"\"\n      }\n    },\n    {\n      \"column\": \"Message-ID\",\n      \"properties\": {\n        \"dtype\": \"string\",\n        \"num_unique_values\": 10744,\n        \"samples\": [\n          \"<28676990.1075848345305.JavaMail.evans@thyme>\",\n          \"<13115253.1075863587012.JavaMail.evans@thyme>\",\n          \"<23488807.1075857573141.JavaMail.evans@thyme>\"\n        ],\n        \"semantic_type\": \"\",\n        \"description\": \"\"\n      }\n    },\n    {\n      \"column\": \"Date\",\n      \"properties\": {\n        \"dtype\": \"object\",\n        \"num_unique_values\": 5941,\n        \"samples\": [\n          \"Tue, 17 Oct 2000 01:37:00 -0700 (PDT)\",\n          \"Mon, 10 Jul 2000 08:36:00 -0700 (PDT)\",\n          \"Wed, 15 Aug 2001 16:45:01 -0700 (PDT)\"\n        ],\n        \"semantic_type\": \"\",\n        \"description\": \"\"\n      }\n    },\n    {\n      \"column\": \"From\",\n      \"properties\": {\n        \"dtype\": \"category\",\n        \"num_unique_values\": 754,\n        \"samples\": [\n          \"scott.gahn@enron.com\",\n          \"bob.lee@enron.com\",\n          \"awe@caiso.com\"\n        ],\n        \"semantic_type\": \"\",\n        \"description\": \"\"\n      }\n    },\n    {\n      \"column\": \"To\",\n      \"properties\": {\n        \"dtype\": \"category\",\n        \"num_unique_values\": 1480,\n        \"samples\": [\n          \"derryl.cleaveland@enron.com\",\n          \"jay.reitmeyer@enron.com, shelly.mendel@enron.com, matthew.lenhart@enron.com, \\n\\tfrank.ermis@enron.com, p..south@enron.com, l..gay@enron.com, \\n\\tm..tholt@enron.com, mike.grigsby@enron.com, keith.holst@enron.com, \\n\\tk..allen@enron.com, matt.smith@enron.com, tori.kuykendall@enron.com, \\n\\tcraig.breslau@enron.com, john.arnold@enron.com, mike.maggi@enron.com, \\n\\tdutch.quigley@enron.com, andy.zipper@enron.com, \\n\\tjustin.rostant@enron.com, john.griffith@enron.com\",\n          \"greg.whalley@enron.com, john.lavorato@enron.com\"\n        ],\n        \"semantic_type\": \"\",\n        \"description\": \"\"\n      }\n    },\n    {\n      \"column\": \"Subject\",\n      \"properties\": {\n        \"dtype\": \"category\",\n        \"num_unique_values\": 3602,\n        \"samples\": [\n          \"UPS Ship Notification, 1Z7261100190720955\",\n          \"Re: Fimat (Soc Gen Line)\",\n          \"FW: Read This!\"\n        ],\n        \"semantic_type\": \"\",\n        \"description\": \"\"\n      }\n    },\n    {\n      \"column\": \"Body\",\n      \"properties\": {\n        \"dtype\": \"string\",\n        \"num_unique_values\": 6014,\n        \"samples\": [\n          \"Johnnie,\\n\\nThank you for meeting with me on Friday.  I left feeling very optimistic about the panel system.  I would like to find a way to incorporate the panels into the home design I showed you.  In order to make it feasible within my budget I am sure it will take several iterations.  The prospect of purchasing the panels and having your  framers install them may have to be considered.  However, my first choice would be for you to be the general contractor.\\n\\nI realize you receive a number of calls just seeking information about this product with very little probability of a sale.  I just want to assure you that I am going to build this house in the fall and I would seriously consider using the panel system if it truly was only a slight increase in cost over stick built.\\n\\nPlease email your cost estimates when complete.\\n\\nThank you,\\n\\nPhillip Allen\",\n          \"\\nStephanie,\\n\\nPlease add the following individuals set forth below to list of recipients to receive the Master Termination Log.\\n\\nAlso, please add Steve Hall to that list.\\n\\nThanks,\\n\\nSusan \\n -----Original Message-----\\nFrom: \\tRosman, Stewart  \\nSent:\\tWednesday, December 26, 2001 11:37 AM\\nTo:\\tBailey, Susan\\nSubject:\\tPeople on Termination List\\n\\nSean Crandall\\nDiana Scholtes\\nJeff Richter\\nChris Mallory\\nMark Fischer\\nTom Alonso\",\n          \"How you doing?  Have you been following Heffner?  Very sad about the\\nCarr people in NY.  But his technical analysis is waaay off.\"\n        ],\n        \"semantic_type\": \"\",\n        \"description\": \"\"\n      }\n    }\n  ]\n}"
            }
          },
          "metadata": {},
          "execution_count": 6
        }
      ]
    },
    {
      "cell_type": "markdown",
      "source": [
        "## Defining labels with k means clustering"
      ],
      "metadata": {
        "id": "UQ1BnsVUekiw"
      }
    },
    {
      "cell_type": "code",
      "source": [
        "import pandas as pd\n",
        "from sklearn.feature_extraction.text import TfidfVectorizer\n",
        "from sklearn.cluster import KMeans\n",
        "from sklearn.metrics import silhouette_score"
      ],
      "metadata": {
        "id": "ymc33kyDeoxM"
      },
      "execution_count": null,
      "outputs": []
    },
    {
      "cell_type": "code",
      "source": [
        "# Drop rows with missing values\n",
        "final_df.dropna(subset=['Body'], inplace=True)"
      ],
      "metadata": {
        "id": "2Er8YXM5d5kV"
      },
      "execution_count": null,
      "outputs": []
    },
    {
      "cell_type": "code",
      "source": [
        "# Define X\n",
        "X = final_df['Body']"
      ],
      "metadata": {
        "id": "8q9c_vioeWXm"
      },
      "execution_count": null,
      "outputs": []
    },
    {
      "cell_type": "code",
      "source": [
        "# Converting the text data into TF-IDF vectors\n",
        "tfidf_vectorizer = TfidfVectorizer(stop_words='english')\n",
        "X_tfidf = tfidf_vectorizer.fit_transform(X)"
      ],
      "metadata": {
        "id": "uddIfafOeaKz"
      },
      "execution_count": null,
      "outputs": []
    },
    {
      "cell_type": "code",
      "source": [
        "# Applying K-Means clustering\n",
        "num_clusters = 5  # You can adjust this number based on your dataset and requirements\n",
        "kmeans = KMeans(n_clusters=num_clusters, random_state=42)\n",
        "kmeans.fit(X_tfidf)"
      ],
      "metadata": {
        "colab": {
          "base_uri": "https://localhost:8080/",
          "height": 129
        },
        "id": "C1pVoqwQed_i",
        "outputId": "35c5f319-f0f5-4ada-d4a7-014665c81604"
      },
      "execution_count": null,
      "outputs": [
        {
          "output_type": "stream",
          "name": "stderr",
          "text": [
            "/usr/local/lib/python3.10/dist-packages/sklearn/cluster/_kmeans.py:870: FutureWarning: The default value of `n_init` will change from 10 to 'auto' in 1.4. Set the value of `n_init` explicitly to suppress the warning\n",
            "  warnings.warn(\n"
          ]
        },
        {
          "output_type": "execute_result",
          "data": {
            "text/plain": [
              "KMeans(n_clusters=5, random_state=42)"
            ],
            "text/html": [
              "<style>#sk-container-id-1 {color: black;background-color: white;}#sk-container-id-1 pre{padding: 0;}#sk-container-id-1 div.sk-toggleable {background-color: white;}#sk-container-id-1 label.sk-toggleable__label {cursor: pointer;display: block;width: 100%;margin-bottom: 0;padding: 0.3em;box-sizing: border-box;text-align: center;}#sk-container-id-1 label.sk-toggleable__label-arrow:before {content: \"▸\";float: left;margin-right: 0.25em;color: #696969;}#sk-container-id-1 label.sk-toggleable__label-arrow:hover:before {color: black;}#sk-container-id-1 div.sk-estimator:hover label.sk-toggleable__label-arrow:before {color: black;}#sk-container-id-1 div.sk-toggleable__content {max-height: 0;max-width: 0;overflow: hidden;text-align: left;background-color: #f0f8ff;}#sk-container-id-1 div.sk-toggleable__content pre {margin: 0.2em;color: black;border-radius: 0.25em;background-color: #f0f8ff;}#sk-container-id-1 input.sk-toggleable__control:checked~div.sk-toggleable__content {max-height: 200px;max-width: 100%;overflow: auto;}#sk-container-id-1 input.sk-toggleable__control:checked~label.sk-toggleable__label-arrow:before {content: \"▾\";}#sk-container-id-1 div.sk-estimator input.sk-toggleable__control:checked~label.sk-toggleable__label {background-color: #d4ebff;}#sk-container-id-1 div.sk-label input.sk-toggleable__control:checked~label.sk-toggleable__label {background-color: #d4ebff;}#sk-container-id-1 input.sk-hidden--visually {border: 0;clip: rect(1px 1px 1px 1px);clip: rect(1px, 1px, 1px, 1px);height: 1px;margin: -1px;overflow: hidden;padding: 0;position: absolute;width: 1px;}#sk-container-id-1 div.sk-estimator {font-family: monospace;background-color: #f0f8ff;border: 1px dotted black;border-radius: 0.25em;box-sizing: border-box;margin-bottom: 0.5em;}#sk-container-id-1 div.sk-estimator:hover {background-color: #d4ebff;}#sk-container-id-1 div.sk-parallel-item::after {content: \"\";width: 100%;border-bottom: 1px solid gray;flex-grow: 1;}#sk-container-id-1 div.sk-label:hover label.sk-toggleable__label {background-color: #d4ebff;}#sk-container-id-1 div.sk-serial::before {content: \"\";position: absolute;border-left: 1px solid gray;box-sizing: border-box;top: 0;bottom: 0;left: 50%;z-index: 0;}#sk-container-id-1 div.sk-serial {display: flex;flex-direction: column;align-items: center;background-color: white;padding-right: 0.2em;padding-left: 0.2em;position: relative;}#sk-container-id-1 div.sk-item {position: relative;z-index: 1;}#sk-container-id-1 div.sk-parallel {display: flex;align-items: stretch;justify-content: center;background-color: white;position: relative;}#sk-container-id-1 div.sk-item::before, #sk-container-id-1 div.sk-parallel-item::before {content: \"\";position: absolute;border-left: 1px solid gray;box-sizing: border-box;top: 0;bottom: 0;left: 50%;z-index: -1;}#sk-container-id-1 div.sk-parallel-item {display: flex;flex-direction: column;z-index: 1;position: relative;background-color: white;}#sk-container-id-1 div.sk-parallel-item:first-child::after {align-self: flex-end;width: 50%;}#sk-container-id-1 div.sk-parallel-item:last-child::after {align-self: flex-start;width: 50%;}#sk-container-id-1 div.sk-parallel-item:only-child::after {width: 0;}#sk-container-id-1 div.sk-dashed-wrapped {border: 1px dashed gray;margin: 0 0.4em 0.5em 0.4em;box-sizing: border-box;padding-bottom: 0.4em;background-color: white;}#sk-container-id-1 div.sk-label label {font-family: monospace;font-weight: bold;display: inline-block;line-height: 1.2em;}#sk-container-id-1 div.sk-label-container {text-align: center;}#sk-container-id-1 div.sk-container {/* jupyter's `normalize.less` sets `[hidden] { display: none; }` but bootstrap.min.css set `[hidden] { display: none !important; }` so we also need the `!important` here to be able to override the default hidden behavior on the sphinx rendered scikit-learn.org. See: https://github.com/scikit-learn/scikit-learn/issues/21755 */display: inline-block !important;position: relative;}#sk-container-id-1 div.sk-text-repr-fallback {display: none;}</style><div id=\"sk-container-id-1\" class=\"sk-top-container\"><div class=\"sk-text-repr-fallback\"><pre>KMeans(n_clusters=5, random_state=42)</pre><b>In a Jupyter environment, please rerun this cell to show the HTML representation or trust the notebook. <br />On GitHub, the HTML representation is unable to render, please try loading this page with nbviewer.org.</b></div><div class=\"sk-container\" hidden><div class=\"sk-item\"><div class=\"sk-estimator sk-toggleable\"><input class=\"sk-toggleable__control sk-hidden--visually\" id=\"sk-estimator-id-1\" type=\"checkbox\" checked><label for=\"sk-estimator-id-1\" class=\"sk-toggleable__label sk-toggleable__label-arrow\">KMeans</label><div class=\"sk-toggleable__content\"><pre>KMeans(n_clusters=5, random_state=42)</pre></div></div></div></div></div>"
            ]
          },
          "metadata": {},
          "execution_count": 12
        }
      ]
    },
    {
      "cell_type": "code",
      "source": [
        "import matplotlib.pyplot as plt\n",
        "from sklearn.decomposition import PCA"
      ],
      "metadata": {
        "id": "gqAQ6gMLe1QO"
      },
      "execution_count": null,
      "outputs": []
    },
    {
      "cell_type": "code",
      "source": [
        "# Reduce dimensionality for visualization\n",
        "pca = PCA(n_components=2)\n",
        "X_pca = pca.fit_transform(X_tfidf.toarray())"
      ],
      "metadata": {
        "id": "qqF6n0p8fDBS"
      },
      "execution_count": null,
      "outputs": []
    },
    {
      "cell_type": "code",
      "source": [
        "# Plot clusters\n",
        "plt.figure(figsize=(8, 6))\n",
        "for cluster_id in range(num_clusters):\n",
        "    plt.scatter(X_pca[kmeans.labels_ == cluster_id, 0],\n",
        "                X_pca[kmeans.labels_ == cluster_id, 1],\n",
        "                label=f'Cluster {cluster_id + 1}')\n",
        "\n",
        "plt.title('K-Means Clustering of Enron Emails (PCA)')\n",
        "plt.xlabel('Principal Component 1')\n",
        "plt.ylabel('Principal Component 2')\n",
        "plt.legend()\n",
        "plt.show()"
      ],
      "metadata": {
        "colab": {
          "base_uri": "https://localhost:8080/",
          "height": 564
        },
        "id": "p1DHiV5hfH9L",
        "outputId": "fa61d326-611d-41e6-84d4-7fc9060e246c"
      },
      "execution_count": null,
      "outputs": [
        {
          "output_type": "display_data",
          "data": {
            "text/plain": [
              "<Figure size 800x600 with 1 Axes>"
            ],
            "image/png": "[encoded data removed]"
          },
          "metadata": {}
        }
      ]
    },
    {
      "cell_type": "code",
      "source": [
        "# Assign cluster labels to the dataset\n",
        "final_df['cluster'] = kmeans.labels_\n",
        "\n",
        "# Sample emails from each cluster for manual inspection\n",
        "sample_emails = []\n",
        "for cluster_id in range(num_clusters):\n",
        "    sample_email = final_df[final_df['cluster'] == cluster_id]['Body'].sample(n=5, random_state=42).values\n",
        "    sample_emails.extend(sample_email)"
      ],
      "metadata": {
        "id": "BBZN3PoZgBBJ"
      },
      "execution_count": null,
      "outputs": []
    },
    {
      "cell_type": "code",
      "source": [
        "cluster_labels = {\n",
        "    0: 'Meeting',\n",
        "    1: 'Deadline',\n",
        "    2: 'General',\n",
        "    3: 'Project Update',\n",
        "    4: 'Feedback'\n",
        "}\n",
        "\n",
        "# Assign labels to the dataset\n",
        "final_df['label'] = final_df['cluster'].map(cluster_labels)\n",
        "\n",
        "# Save the labeled dataset\n",
        "final_df.to_csv('labeled_emails.csv', index=False)"
      ],
      "metadata": {
        "id": "8b4Pcxq2gcJG"
      },
      "execution_count": null,
      "outputs": []
    },
    {
      "cell_type": "markdown",
      "source": [
        "## Now exploring the labeled emails csv"
      ],
      "metadata": {
        "id": "2-HnHL2Tg0jc"
      }
    },
    {
      "cell_type": "code",
      "source": [
        "df2 = pd.read_csv('labeled_emails.csv')"
      ],
      "metadata": {
        "id": "4bWSatmBgnFC"
      },
      "execution_count": null,
      "outputs": []
    },
    {
      "cell_type": "code",
      "source": [
        "df2"
      ],
      "metadata": {
        "colab": {
          "base_uri": "https://localhost:8080/",
          "height": 1311
        },
        "id": "oDhIQ8K3g_jZ",
        "outputId": "acd60ab8-2955-44f9-8de8-1843eb4be399"
      },
      "execution_count": null,
      "outputs": [
        {
          "output_type": "execute_result",
          "data": {
            "text/plain": [
              "                           file  \\\n",
              "0         allen-p/_sent_mail/1.   \n",
              "1        allen-p/_sent_mail/10.   \n",
              "2       allen-p/_sent_mail/100.   \n",
              "3      allen-p/_sent_mail/1000.   \n",
              "4      allen-p/_sent_mail/1001.   \n",
              "...                         ...   \n",
              "10739    bass-e/_sent_mail/402.   \n",
              "10740    bass-e/_sent_mail/403.   \n",
              "10741    bass-e/_sent_mail/404.   \n",
              "10742    bass-e/_sent_mail/405.   \n",
              "10743    bass-e/_sent_mail/406.   \n",
              "\n",
              "                                          Message-ID  \\\n",
              "0      <18782981.1075855378110.JavaMail.evans@thyme>   \n",
              "1      <15464986.1075855378456.JavaMail.evans@thyme>   \n",
              "2      <24216240.1075855687451.JavaMail.evans@thyme>   \n",
              "3      <13505866.1075863688222.JavaMail.evans@thyme>   \n",
              "4      <30922949.1075863688243.JavaMail.evans@thyme>   \n",
              "...                                              ...   \n",
              "10739  <25113555.1075854717213.JavaMail.evans@thyme>   \n",
              "10740   <2327882.1075854717235.JavaMail.evans@thyme>   \n",
              "10741    <249544.1075854717256.JavaMail.evans@thyme>   \n",
              "10742  <33346158.1075854717277.JavaMail.evans@thyme>   \n",
              "10743  <22762643.1075854717299.JavaMail.evans@thyme>   \n",
              "\n",
              "                                        Date                     From  \\\n",
              "0      Mon, 14 May 2001 16:39:00 -0700 (PDT)  phillip.allen@enron.com   \n",
              "1       Fri, 4 May 2001 13:51:00 -0700 (PDT)  phillip.allen@enron.com   \n",
              "2      Wed, 18 Oct 2000 03:00:00 -0700 (PDT)  phillip.allen@enron.com   \n",
              "3      Mon, 23 Oct 2000 06:13:00 -0700 (PDT)  phillip.allen@enron.com   \n",
              "4      Thu, 31 Aug 2000 05:07:00 -0700 (PDT)  phillip.allen@enron.com   \n",
              "...                                      ...                      ...   \n",
              "10739  Wed, 20 Sep 2000 05:23:00 -0700 (PDT)      eric.bass@enron.com   \n",
              "10740  Wed, 20 Sep 2000 05:05:00 -0700 (PDT)      eric.bass@enron.com   \n",
              "10741  Wed, 20 Sep 2000 04:51:00 -0700 (PDT)      eric.bass@enron.com   \n",
              "10742  Wed, 20 Sep 2000 04:48:00 -0700 (PDT)      eric.bass@enron.com   \n",
              "10743  Wed, 20 Sep 2000 03:43:00 -0700 (PDT)      eric.bass@enron.com   \n",
              "\n",
              "                            To    Subject  \\\n",
              "0         tim.belden@enron.com        NaN   \n",
              "1      john.lavorato@enron.com        Re:   \n",
              "2       leah.arsdall@enron.com   Re: test   \n",
              "3        randall.gay@enron.com        NaN   \n",
              "4         greg.piper@enron.com  Re: Hello   \n",
              "...                        ...        ...   \n",
              "10739   jason.bass2@compaq.com        RE:   \n",
              "10740   jason.bass2@compaq.com        NaN   \n",
              "10741  patrick.ryder@enron.com    Pollard   \n",
              "10742  patrick.ryder@enron.com   kennison   \n",
              "10743   jason.bass2@compaq.com     RE: TV   \n",
              "\n",
              "                                                    Body  cluster     label  \n",
              "0                              Here is our forecast\\n\\n         4  Feedback  \n",
              "1      Traveling to have a business meeting takes the...        4  Feedback  \n",
              "2                         test successful.  way to go!!!        4  Feedback  \n",
              "3      Randy,\\n\\n Can you send me a schedule of the s...        4  Feedback  \n",
              "4                    Let's shoot for Tuesday at 11:45.          4  Feedback  \n",
              "...                                                  ...      ...       ...  \n",
              "10739  that's great!\\nwhat do you want for taylor?\\n\\...        1  Deadline  \n",
              "10740                       what do you want for taylor?        4  Feedback  \n",
              "10741                          $2 bid for Marcus Pollard        4  Feedback  \n",
              "10742          please take me out of my bid for kennison        4  Feedback  \n",
              "10743    \\nRedskins to stick with Johnson at quarterb...        4  Feedback  \n",
              "\n",
              "[10744 rows x 9 columns]"
            ],
            "text/html": [
              "\n",
              "  <div id=\"df-450a311a-ecfd-4b6b-bb83-6090ae3ffcca\" class=\"colab-df-container\">\n",
              "    <div>\n",
              "<style scoped>\n",
              "    .dataframe tbody tr th:only-of-type {\n",
              "        vertical-align: middle;\n",
              "    }\n",
              "\n",
              "    .dataframe tbody tr th {\n",
              "        vertical-align: top;\n",
              "    }\n",
              "\n",
              "    .dataframe thead th {\n",
              "        text-align: right;\n",
              "    }\n",
              "</style>\n",
              "<table border=\"1\" class=\"dataframe\">\n",
              "  <thead>\n",
              "    <tr style=\"text-align: right;\">\n",
              "      <th></th>\n",
              "      <th>file</th>\n",
              "      <th>Message-ID</th>\n",
              "      <th>Date</th>\n",
              "      <th>From</th>\n",
              "      <th>To</th>\n",
              "      <th>Subject</th>\n",
              "      <th>Body</th>\n",
              "      <th>cluster</th>\n",
              "      <th>label</th>\n",
              "    </tr>\n",
              "  </thead>\n",
              "  <tbody>\n",
              "    <tr>\n",
              "      <th>0</th>\n",
              "      <td>allen-p/_sent_mail/1.</td>\n",
              "      <td>&lt;18782981.1075855378110.JavaMail.evans@thyme&gt;</td>\n",
              "      <td>Mon, 14 May 2001 16:39:00 -0700 (PDT)</td>\n",
              "      <td>phillip.allen@enron.com</td>\n",
              "      <td>tim.belden@enron.com</td>\n",
              "      <td>NaN</td>\n",
              "      <td>Here is our forecast\\n\\n</td>\n",
              "      <td>4</td>\n",
              "      <td>Feedback</td>\n",
              "    </tr>\n",
              "    <tr>\n",
              "      <th>1</th>\n",
              "      <td>allen-p/_sent_mail/10.</td>\n",
              "      <td>&lt;15464986.1075855378456.JavaMail.evans@thyme&gt;</td>\n",
              "      <td>Fri, 4 May 2001 13:51:00 -0700 (PDT)</td>\n",
              "      <td>phillip.allen@enron.com</td>\n",
              "      <td>john.lavorato@enron.com</td>\n",
              "      <td>Re:</td>\n",
              "      <td>Traveling to have a business meeting takes the...</td>\n",
              "      <td>4</td>\n",
              "      <td>Feedback</td>\n",
              "    </tr>\n",
              "    <tr>\n",
              "      <th>2</th>\n",
              "      <td>allen-p/_sent_mail/100.</td>\n",
              "      <td>&lt;24216240.1075855687451.JavaMail.evans@thyme&gt;</td>\n",
              "      <td>Wed, 18 Oct 2000 03:00:00 -0700 (PDT)</td>\n",
              "      <td>phillip.allen@enron.com</td>\n",
              "      <td>leah.arsdall@enron.com</td>\n",
              "      <td>Re: test</td>\n",
              "      <td>test successful.  way to go!!!</td>\n",
              "      <td>4</td>\n",
              "      <td>Feedback</td>\n",
              "    </tr>\n",
              "    <tr>\n",
              "      <th>3</th>\n",
              "      <td>allen-p/_sent_mail/1000.</td>\n",
              "      <td>&lt;13505866.1075863688222.JavaMail.evans@thyme&gt;</td>\n",
              "      <td>Mon, 23 Oct 2000 06:13:00 -0700 (PDT)</td>\n",
              "      <td>phillip.allen@enron.com</td>\n",
              "      <td>randall.gay@enron.com</td>\n",
              "      <td>NaN</td>\n",
              "      <td>Randy,\\n\\n Can you send me a schedule of the s...</td>\n",
              "      <td>4</td>\n",
              "      <td>Feedback</td>\n",
              "    </tr>\n",
              "    <tr>\n",
              "      <th>4</th>\n",
              "      <td>allen-p/_sent_mail/1001.</td>\n",
              "      <td>&lt;30922949.1075863688243.JavaMail.evans@thyme&gt;</td>\n",
              "      <td>Thu, 31 Aug 2000 05:07:00 -0700 (PDT)</td>\n",
              "      <td>phillip.allen@enron.com</td>\n",
              "      <td>greg.piper@enron.com</td>\n",
              "      <td>Re: Hello</td>\n",
              "      <td>Let's shoot for Tuesday at 11:45.</td>\n",
              "      <td>4</td>\n",
              "      <td>Feedback</td>\n",
              "    </tr>\n",
              "    <tr>\n",
              "      <th>...</th>\n",
              "      <td>...</td>\n",
              "      <td>...</td>\n",
              "      <td>...</td>\n",
              "      <td>...</td>\n",
              "      <td>...</td>\n",
              "      <td>...</td>\n",
              "      <td>...</td>\n",
              "      <td>...</td>\n",
              "      <td>...</td>\n",
              "    </tr>\n",
              "    <tr>\n",
              "      <th>10739</th>\n",
              "      <td>bass-e/_sent_mail/402.</td>\n",
              "      <td>&lt;25113555.1075854717213.JavaMail.evans@thyme&gt;</td>\n",
              "      <td>Wed, 20 Sep 2000 05:23:00 -0700 (PDT)</td>\n",
              "      <td>eric.bass@enron.com</td>\n",
              "      <td>jason.bass2@compaq.com</td>\n",
              "      <td>RE:</td>\n",
              "      <td>that's great!\\nwhat do you want for taylor?\\n\\...</td>\n",
              "      <td>1</td>\n",
              "      <td>Deadline</td>\n",
              "    </tr>\n",
              "    <tr>\n",
              "      <th>10740</th>\n",
              "      <td>bass-e/_sent_mail/403.</td>\n",
              "      <td>&lt;2327882.1075854717235.JavaMail.evans@thyme&gt;</td>\n",
              "      <td>Wed, 20 Sep 2000 05:05:00 -0700 (PDT)</td>\n",
              "      <td>eric.bass@enron.com</td>\n",
              "      <td>jason.bass2@compaq.com</td>\n",
              "      <td>NaN</td>\n",
              "      <td>what do you want for taylor?</td>\n",
              "      <td>4</td>\n",
              "      <td>Feedback</td>\n",
              "    </tr>\n",
              "    <tr>\n",
              "      <th>10741</th>\n",
              "      <td>bass-e/_sent_mail/404.</td>\n",
              "      <td>&lt;249544.1075854717256.JavaMail.evans@thyme&gt;</td>\n",
              "      <td>Wed, 20 Sep 2000 04:51:00 -0700 (PDT)</td>\n",
              "      <td>eric.bass@enron.com</td>\n",
              "      <td>patrick.ryder@enron.com</td>\n",
              "      <td>Pollard</td>\n",
              "      <td>$2 bid for Marcus Pollard</td>\n",
              "      <td>4</td>\n",
              "      <td>Feedback</td>\n",
              "    </tr>\n",
              "    <tr>\n",
              "      <th>10742</th>\n",
              "      <td>bass-e/_sent_mail/405.</td>\n",
              "      <td>&lt;33346158.1075854717277.JavaMail.evans@thyme&gt;</td>\n",
              "      <td>Wed, 20 Sep 2000 04:48:00 -0700 (PDT)</td>\n",
              "      <td>eric.bass@enron.com</td>\n",
              "      <td>patrick.ryder@enron.com</td>\n",
              "      <td>kennison</td>\n",
              "      <td>please take me out of my bid for kennison</td>\n",
              "      <td>4</td>\n",
              "      <td>Feedback</td>\n",
              "    </tr>\n",
              "    <tr>\n",
              "      <th>10743</th>\n",
              "      <td>bass-e/_sent_mail/406.</td>\n",
              "      <td>&lt;22762643.1075854717299.JavaMail.evans@thyme&gt;</td>\n",
              "      <td>Wed, 20 Sep 2000 03:43:00 -0700 (PDT)</td>\n",
              "      <td>eric.bass@enron.com</td>\n",
              "      <td>jason.bass2@compaq.com</td>\n",
              "      <td>RE: TV</td>\n",
              "      <td>\\nRedskins to stick with Johnson at quarterb...</td>\n",
              "      <td>4</td>\n",
              "      <td>Feedback</td>\n",
              "    </tr>\n",
              "  </tbody>\n",
              "</table>\n",
              "<p>10744 rows × 9 columns</p>\n",
              "</div>\n",
              "    <div class=\"colab-df-buttons\">\n",
              "\n",
              "  <div class=\"colab-df-container\">\n",
              "    <button class=\"colab-df-convert\" onclick=\"convertToInteractive('df-450a311a-ecfd-4b6b-bb83-6090ae3ffcca')\"\n",
              "            title=\"Convert this dataframe to an interactive table.\"\n",
              "            style=\"display:none;\">\n",
              "\n",
              "  <svg xmlns=\"http://www.w3.org/2000/svg\" height=\"24px\" viewBox=\"0 -960 960 960\">\n",
              "    <path d=\"M120-120v-720h720v720H120Zm60-500h600v-160H180v160Zm220 220h160v-160H400v160Zm0 220h160v-160H400v160ZM180-400h160v-160H180v160Zm440 0h160v-160H620v160ZM180-180h160v-160H180v160Zm440 0h160v-160H620v160Z\"/>\n",
              "  </svg>\n",
              "    </button>\n",
              "\n",
              "  <style>\n",
              "    .colab-df-container {\n",
              "      display:flex;\n",
              "      gap: 12px;\n",
              "    }\n",
              "\n",
              "    .colab-df-convert {\n",
              "      background-color: #E8F0FE;\n",
              "      border: none;\n",
              "      border-radius: 50%;\n",
              "      cursor: pointer;\n",
              "      display: none;\n",
              "      fill: #1967D2;\n",
              "      height: 32px;\n",
              "      padding: 0 0 0 0;\n",
              "      width: 32px;\n",
              "    }\n",
              "\n",
              "    .colab-df-convert:hover {\n",
              "      background-color: #E2EBFA;\n",
              "      box-shadow: 0px 1px 2px rgba(60, 64, 67, 0.3), 0px 1px 3px 1px rgba(60, 64, 67, 0.15);\n",
              "      fill: #174EA6;\n",
              "    }\n",
              "\n",
              "    .colab-df-buttons div {\n",
              "      margin-bottom: 4px;\n",
              "    }\n",
              "\n",
              "    [theme=dark] .colab-df-convert {\n",
              "      background-color: #3B4455;\n",
              "      fill: #D2E3FC;\n",
              "    }\n",
              "\n",
              "    [theme=dark] .colab-df-convert:hover {\n",
              "      background-color: #434B5C;\n",
              "      box-shadow: 0px 1px 3px 1px rgba(0, 0, 0, 0.15);\n",
              "      filter: drop-shadow(0px 1px 2px rgba(0, 0, 0, 0.3));\n",
              "      fill: #FFFFFF;\n",
              "    }\n",
              "  </style>\n",
              "\n",
              "    <script>\n",
              "      const buttonEl =\n",
              "        document.querySelector('#df-450a311a-ecfd-4b6b-bb83-6090ae3ffcca button.colab-df-convert');\n",
              "      buttonEl.style.display =\n",
              "        google.colab.kernel.accessAllowed ? 'block' : 'none';\n",
              "\n",
              "      async function convertToInteractive(key) {\n",
              "        const element = document.querySelector('#df-450a311a-ecfd-4b6b-bb83-6090ae3ffcca');\n",
              "        const dataTable =\n",
              "          await google.colab.kernel.invokeFunction('convertToInteractive',\n",
              "                                                    [key], {});\n",
              "        if (!dataTable) return;\n",
              "\n",
              "        const docLinkHtml = 'Like what you see? Visit the ' +\n",
              "          '<a target=\"_blank\" href=https://colab.research.google.com/notebooks/data_table.ipynb>data table notebook</a>'\n",
              "          + ' to learn more about interactive tables.';\n",
              "        element.innerHTML = '';\n",
              "        dataTable['output_type'] = 'display_data';\n",
              "        await google.colab.output.renderOutput(dataTable, element);\n",
              "        const docLink = document.createElement('div');\n",
              "        docLink.innerHTML = docLinkHtml;\n",
              "        element.appendChild(docLink);\n",
              "      }\n",
              "    </script>\n",
              "  </div>\n",
              "\n",
              "\n",
              "<div id=\"df-34262487-c0b1-4dfe-acf0-6f724ecf22c6\">\n",
              "  <button class=\"colab-df-quickchart\" onclick=\"quickchart('df-34262487-c0b1-4dfe-acf0-6f724ecf22c6')\"\n",
              "            title=\"Suggest charts\"\n",
              "            style=\"display:none;\">\n",
              "\n",
              "<svg xmlns=\"http://www.w3.org/2000/svg\" height=\"24px\"viewBox=\"0 0 24 24\"\n",
              "     width=\"24px\">\n",
              "    <g>\n",
              "        <path d=\"M19 3H5c-1.1 0-2 .9-2 2v14c0 1.1.9 2 2 2h14c1.1 0 2-.9 2-2V5c0-1.1-.9-2-2-2zM9 17H7v-7h2v7zm4 0h-2V7h2v10zm4 0h-2v-4h2v4z\"/>\n",
              "    </g>\n",
              "</svg>\n",
              "  </button>\n",
              "\n",
              "<style>\n",
              "  .colab-df-quickchart {\n",
              "      --bg-color: #E8F0FE;\n",
              "      --fill-color: #1967D2;\n",
              "      --hover-bg-color: #E2EBFA;\n",
              "      --hover-fill-color: #174EA6;\n",
              "      --disabled-fill-color: #AAA;\n",
              "      --disabled-bg-color: #DDD;\n",
              "  }\n",
              "\n",
              "  [theme=dark] .colab-df-quickchart {\n",
              "      --bg-color: #3B4455;\n",
              "      --fill-color: #D2E3FC;\n",
              "      --hover-bg-color: #434B5C;\n",
              "      --hover-fill-color: #FFFFFF;\n",
              "      --disabled-bg-color: #3B4455;\n",
              "      --disabled-fill-color: #666;\n",
              "  }\n",
              "\n",
              "  .colab-df-quickchart {\n",
              "    background-color: var(--bg-color);\n",
              "    border: none;\n",
              "    border-radius: 50%;\n",
              "    cursor: pointer;\n",
              "    display: none;\n",
              "    fill: var(--fill-color);\n",
              "    height: 32px;\n",
              "    padding: 0;\n",
              "    width: 32px;\n",
              "  }\n",
              "\n",
              "  .colab-df-quickchart:hover {\n",
              "    background-color: var(--hover-bg-color);\n",
              "    box-shadow: 0 1px 2px rgba(60, 64, 67, 0.3), 0 1px 3px 1px rgba(60, 64, 67, 0.15);\n",
              "    fill: var(--button-hover-fill-color);\n",
              "  }\n",
              "\n",
              "  .colab-df-quickchart-complete:disabled,\n",
              "  .colab-df-quickchart-complete:disabled:hover {\n",
              "    background-color: var(--disabled-bg-color);\n",
              "    fill: var(--disabled-fill-color);\n",
              "    box-shadow: none;\n",
              "  }\n",
              "\n",
              "  .colab-df-spinner {\n",
              "    border: 2px solid var(--fill-color);\n",
              "    border-color: transparent;\n",
              "    border-bottom-color: var(--fill-color);\n",
              "    animation:\n",
              "      spin 1s steps(1) infinite;\n",
              "  }\n",
              "\n",
              "  @keyframes spin {\n",
              "    0% {\n",
              "      border-color: transparent;\n",
              "      border-bottom-color: var(--fill-color);\n",
              "      border-left-color: var(--fill-color);\n",
              "    }\n",
              "    20% {\n",
              "      border-color: transparent;\n",
              "      border-left-color: var(--fill-color);\n",
              "      border-top-color: var(--fill-color);\n",
              "    }\n",
              "    30% {\n",
              "      border-color: transparent;\n",
              "      border-left-color: var(--fill-color);\n",
              "      border-top-color: var(--fill-color);\n",
              "      border-right-color: var(--fill-color);\n",
              "    }\n",
              "    40% {\n",
              "      border-color: transparent;\n",
              "      border-right-color: var(--fill-color);\n",
              "      border-top-color: var(--fill-color);\n",
              "    }\n",
              "    60% {\n",
              "      border-color: transparent;\n",
              "      border-right-color: var(--fill-color);\n",
              "    }\n",
              "    80% {\n",
              "      border-color: transparent;\n",
              "      border-right-color: var(--fill-color);\n",
              "      border-bottom-color: var(--fill-color);\n",
              "    }\n",
              "    90% {\n",
              "      border-color: transparent;\n",
              "      border-bottom-color: var(--fill-color);\n",
              "    }\n",
              "  }\n",
              "</style>\n",
              "\n",
              "  <script>\n",
              "    async function quickchart(key) {\n",
              "      const quickchartButtonEl =\n",
              "        document.querySelector('#' + key + ' button');\n",
              "      quickchartButtonEl.disabled = true;  // To prevent multiple clicks.\n",
              "      quickchartButtonEl.classList.add('colab-df-spinner');\n",
              "      try {\n",
              "        const charts = await google.colab.kernel.invokeFunction(\n",
              "            'suggestCharts', [key], {});\n",
              "      } catch (error) {\n",
              "        console.error('Error during call to suggestCharts:', error);\n",
              "      }\n",
              "      quickchartButtonEl.classList.remove('colab-df-spinner');\n",
              "      quickchartButtonEl.classList.add('colab-df-quickchart-complete');\n",
              "    }\n",
              "    (() => {\n",
              "      let quickchartButtonEl =\n",
              "        document.querySelector('#df-34262487-c0b1-4dfe-acf0-6f724ecf22c6 button');\n",
              "      quickchartButtonEl.style.display =\n",
              "        google.colab.kernel.accessAllowed ? 'block' : 'none';\n",
              "    })();\n",
              "  </script>\n",
              "</div>\n",
              "\n",
              "  <div id=\"id_f4d8de3f-0dd0-49a2-97a5-6aea35e8ac2f\">\n",
              "    <style>\n",
              "      .colab-df-generate {\n",
              "        background-color: #E8F0FE;\n",
              "        border: none;\n",
              "        border-radius: 50%;\n",
              "        cursor: pointer;\n",
              "        display: none;\n",
              "        fill: #1967D2;\n",
              "        height: 32px;\n",
              "        padding: 0 0 0 0;\n",
              "        width: 32px;\n",
              "      }\n",
              "\n",
              "      .colab-df-generate:hover {\n",
              "        background-color: #E2EBFA;\n",
              "        box-shadow: 0px 1px 2px rgba(60, 64, 67, 0.3), 0px 1px 3px 1px rgba(60, 64, 67, 0.15);\n",
              "        fill: #174EA6;\n",
              "      }\n",
              "\n",
              "      [theme=dark] .colab-df-generate {\n",
              "        background-color: #3B4455;\n",
              "        fill: #D2E3FC;\n",
              "      }\n",
              "\n",
              "      [theme=dark] .colab-df-generate:hover {\n",
              "        background-color: #434B5C;\n",
              "        box-shadow: 0px 1px 3px 1px rgba(0, 0, 0, 0.15);\n",
              "        filter: drop-shadow(0px 1px 2px rgba(0, 0, 0, 0.3));\n",
              "        fill: #FFFFFF;\n",
              "      }\n",
              "    </style>\n",
              "    <button class=\"colab-df-generate\" onclick=\"generateWithVariable('df2')\"\n",
              "            title=\"Generate code using this dataframe.\"\n",
              "            style=\"display:none;\">\n",
              "\n",
              "  <svg xmlns=\"http://www.w3.org/2000/svg\" height=\"24px\"viewBox=\"0 0 24 24\"\n",
              "       width=\"24px\">\n",
              "    <path d=\"M7,19H8.4L18.45,9,17,7.55,7,17.6ZM5,21V16.75L18.45,3.32a2,2,0,0,1,2.83,0l1.4,1.43a1.91,1.91,0,0,1,.58,1.4,1.91,1.91,0,0,1-.58,1.4L9.25,21ZM18.45,9,17,7.55Zm-12,3A5.31,5.31,0,0,0,4.9,8.1,5.31,5.31,0,0,0,1,6.5,5.31,5.31,0,0,0,4.9,4.9,5.31,5.31,0,0,0,6.5,1,5.31,5.31,0,0,0,8.1,4.9,5.31,5.31,0,0,0,12,6.5,5.46,5.46,0,0,0,6.5,12Z\"/>\n",
              "  </svg>\n",
              "    </button>\n",
              "    <script>\n",
              "      (() => {\n",
              "      const buttonEl =\n",
              "        document.querySelector('#id_f4d8de3f-0dd0-49a2-97a5-6aea35e8ac2f button.colab-df-generate');\n",
              "      buttonEl.style.display =\n",
              "        google.colab.kernel.accessAllowed ? 'block' : 'none';\n",
              "\n",
              "      buttonEl.onclick = () => {\n",
              "        google.colab.notebook.generateWithVariable('df2');\n",
              "      }\n",
              "      })();\n",
              "    </script>\n",
              "  </div>\n",
              "\n",
              "    </div>\n",
              "  </div>\n"
            ],
            "application/vnd.google.colaboratory.intrinsic+json": {
              "type": "dataframe",
              "variable_name": "df2",
              "summary": "{\n  \"name\": \"df2\",\n  \"rows\": 10744,\n  \"fields\": [\n    {\n      \"column\": \"file\",\n      \"properties\": {\n        \"dtype\": \"string\",\n        \"num_unique_values\": 10744,\n        \"samples\": [\n          \"arora-h/discussion_threads/28.\",\n          \"badeer-r/all_documents/5.\",\n          \"arnold-j/all_documents/265.\"\n        ],\n        \"semantic_type\": \"\",\n        \"description\": \"\"\n      }\n    },\n    {\n      \"column\": \"Message-ID\",\n      \"properties\": {\n        \"dtype\": \"string\",\n        \"num_unique_values\": 10744,\n        \"samples\": [\n          \"<28676990.1075848345305.JavaMail.evans@thyme>\",\n          \"<13115253.1075863587012.JavaMail.evans@thyme>\",\n          \"<23488807.1075857573141.JavaMail.evans@thyme>\"\n        ],\n        \"semantic_type\": \"\",\n        \"description\": \"\"\n      }\n    },\n    {\n      \"column\": \"Date\",\n      \"properties\": {\n        \"dtype\": \"object\",\n        \"num_unique_values\": 5941,\n        \"samples\": [\n          \"Tue, 17 Oct 2000 01:37:00 -0700 (PDT)\",\n          \"Mon, 10 Jul 2000 08:36:00 -0700 (PDT)\",\n          \"Wed, 15 Aug 2001 16:45:01 -0700 (PDT)\"\n        ],\n        \"semantic_type\": \"\",\n        \"description\": \"\"\n      }\n    },\n    {\n      \"column\": \"From\",\n      \"properties\": {\n        \"dtype\": \"category\",\n        \"num_unique_values\": 754,\n        \"samples\": [\n          \"scott.gahn@enron.com\",\n          \"bob.lee@enron.com\",\n          \"awe@caiso.com\"\n        ],\n        \"semantic_type\": \"\",\n        \"description\": \"\"\n      }\n    },\n    {\n      \"column\": \"To\",\n      \"properties\": {\n        \"dtype\": \"category\",\n        \"num_unique_values\": 1480,\n        \"samples\": [\n          \"derryl.cleaveland@enron.com\",\n          \"jay.reitmeyer@enron.com, shelly.mendel@enron.com, matthew.lenhart@enron.com, \\n\\tfrank.ermis@enron.com, p..south@enron.com, l..gay@enron.com, \\n\\tm..tholt@enron.com, mike.grigsby@enron.com, keith.holst@enron.com, \\n\\tk..allen@enron.com, matt.smith@enron.com, tori.kuykendall@enron.com, \\n\\tcraig.breslau@enron.com, john.arnold@enron.com, mike.maggi@enron.com, \\n\\tdutch.quigley@enron.com, andy.zipper@enron.com, \\n\\tjustin.rostant@enron.com, john.griffith@enron.com\",\n          \"greg.whalley@enron.com, john.lavorato@enron.com\"\n        ],\n        \"semantic_type\": \"\",\n        \"description\": \"\"\n      }\n    },\n    {\n      \"column\": \"Subject\",\n      \"properties\": {\n        \"dtype\": \"category\",\n        \"num_unique_values\": 3601,\n        \"samples\": [\n          \"Re: mar/apr\",\n          \"TRV Notification:  (NG - PROPT P/L - 10/22/2001)\",\n          \"Re: Got bored and...\"\n        ],\n        \"semantic_type\": \"\",\n        \"description\": \"\"\n      }\n    },\n    {\n      \"column\": \"Body\",\n      \"properties\": {\n        \"dtype\": \"string\",\n        \"num_unique_values\": 6014,\n        \"samples\": [\n          \"Johnnie,\\n\\nThank you for meeting with me on Friday.  I left feeling very optimistic about the panel system.  I would like to find a way to incorporate the panels into the home design I showed you.  In order to make it feasible within my budget I am sure it will take several iterations.  The prospect of purchasing the panels and having your  framers install them may have to be considered.  However, my first choice would be for you to be the general contractor.\\n\\nI realize you receive a number of calls just seeking information about this product with very little probability of a sale.  I just want to assure you that I am going to build this house in the fall and I would seriously consider using the panel system if it truly was only a slight increase in cost over stick built.\\n\\nPlease email your cost estimates when complete.\\n\\nThank you,\\n\\nPhillip Allen\",\n          \"\\nStephanie,\\n\\nPlease add the following individuals set forth below to list of recipients to receive the Master Termination Log.\\n\\nAlso, please add Steve Hall to that list.\\n\\nThanks,\\n\\nSusan \\n -----Original Message-----\\nFrom: \\tRosman, Stewart  \\nSent:\\tWednesday, December 26, 2001 11:37 AM\\nTo:\\tBailey, Susan\\nSubject:\\tPeople on Termination List\\n\\nSean Crandall\\nDiana Scholtes\\nJeff Richter\\nChris Mallory\\nMark Fischer\\nTom Alonso\",\n          \"How you doing?  Have you been following Heffner?  Very sad about the\\nCarr people in NY.  But his technical analysis is waaay off.\"\n        ],\n        \"semantic_type\": \"\",\n        \"description\": \"\"\n      }\n    },\n    {\n      \"column\": \"cluster\",\n      \"properties\": {\n        \"dtype\": \"number\",\n        \"std\": 1,\n        \"min\": 0,\n        \"max\": 4,\n        \"num_unique_values\": 5,\n        \"samples\": [\n          1,\n          0,\n          2\n        ],\n        \"semantic_type\": \"\",\n        \"description\": \"\"\n      }\n    },\n    {\n      \"column\": \"label\",\n      \"properties\": {\n        \"dtype\": \"category\",\n        \"num_unique_values\": 5,\n        \"samples\": [\n          \"Deadline\",\n          \"Meeting\",\n          \"General\"\n        ],\n        \"semantic_type\": \"\",\n        \"description\": \"\"\n      }\n    }\n  ]\n}"
            }
          },
          "metadata": {},
          "execution_count": 21
        }
      ]
    },
    {
      "cell_type": "code",
      "source": [
        "from sklearn.model_selection import train_test_split\n",
        "from sklearn.naive_bayes import MultinomialNB\n",
        "from sklearn.svm import SVC\n",
        "from sklearn.ensemble import RandomForestClassifier\n",
        "from sklearn.linear_model import LogisticRegression\n",
        "from sklearn.metrics import accuracy_score"
      ],
      "metadata": {
        "id": "ikhNdKwdhA5f"
      },
      "execution_count": null,
      "outputs": []
    },
    {
      "cell_type": "markdown",
      "source": [
        "## Splitting the data"
      ],
      "metadata": {
        "id": "sdavSho_rGGs"
      }
    },
    {
      "cell_type": "code",
      "source": [
        "x = df2['Body']\n",
        "y = df2['label']"
      ],
      "metadata": {
        "id": "FCDeWtrrhokv"
      },
      "execution_count": null,
      "outputs": []
    },
    {
      "cell_type": "code",
      "source": [
        "# Split the data into training and testing sets\n",
        "x_train, x_test, y_train, y_test = train_test_split(x, y, test_size=0.2, random_state=42)"
      ],
      "metadata": {
        "id": "tw2rPbf7hzgK"
      },
      "execution_count": null,
      "outputs": []
    },
    {
      "cell_type": "markdown",
      "source": [
        "## Removing stopwords"
      ],
      "metadata": {
        "id": "GZZV9UdqrJ2l"
      }
    },
    {
      "cell_type": "code",
      "source": [
        "!pip install nltk"
      ],
      "metadata": {
        "colab": {
          "base_uri": "https://localhost:8080/"
        },
        "id": "GKEPmNg7jZY7",
        "outputId": "65618d07-84fd-438c-e487-5b9a1ec49e96"
      },
      "execution_count": null,
      "outputs": [
        {
          "output_type": "stream",
          "name": "stdout",
          "text": [
            "Requirement already satisfied: nltk in /usr/local/lib/python3.10/dist-packages (3.8.1)\n",
            "Requirement already satisfied: click in /usr/local/lib/python3.10/dist-packages (from nltk) (8.1.7)\n",
            "Requirement already satisfied: joblib in /usr/local/lib/python3.10/dist-packages (from nltk) (1.3.2)\n",
            "Requirement already satisfied: regex>=2021.8.3 in /usr/local/lib/python3.10/dist-packages (from nltk) (2023.12.25)\n",
            "Requirement already satisfied: tqdm in /usr/local/lib/python3.10/dist-packages (from nltk) (4.66.2)\n"
          ]
        }
      ]
    },
    {
      "cell_type": "code",
      "source": [
        "import nltk\n",
        "nltk.download('stopwords')\n",
        "nltk.download('punkt')"
      ],
      "metadata": {
        "colab": {
          "base_uri": "https://localhost:8080/"
        },
        "id": "PIHfwhPvh_3x",
        "outputId": "eeaf5f98-d509-49eb-a419-98b94acc6fa6"
      },
      "execution_count": null,
      "outputs": [
        {
          "output_type": "stream",
          "name": "stderr",
          "text": [
            "[nltk_data] Downloading package stopwords to /root/nltk_data...\n",
            "[nltk_data]   Package stopwords is already up-to-date!\n",
            "[nltk_data] Downloading package punkt to /root/nltk_data...\n",
            "[nltk_data]   Unzipping tokenizers/punkt.zip.\n"
          ]
        },
        {
          "output_type": "execute_result",
          "data": {
            "text/plain": [
              "True"
            ]
          },
          "metadata": {},
          "execution_count": 35
        }
      ]
    },
    {
      "cell_type": "code",
      "source": [
        "import nltk\n",
        "from nltk.corpus import stopwords\n",
        "from nltk.tokenize import word_tokenize\n",
        "\n",
        "# Ensure you have the stop words set downloaded\n",
        "# nltk.download('stopwords')\n",
        "\n",
        "def remove_stop_words(email_body):\n",
        "    # Tokenize the email body\n",
        "    word_tokens = word_tokenize(email_body)\n",
        "\n",
        "    # Set of English stop words\n",
        "    stop_words = set(stopwords.words('english'))\n",
        "\n",
        "    # Remove stop words\n",
        "    filtered_email_body = [word for word in word_tokens if not word.lower() in stop_words]\n",
        "\n",
        "    # Join the words back into a string\n",
        "    filtered_email_body = ' '.join(filtered_email_body)\n",
        "\n",
        "    return filtered_email_body\n",
        "\n",
        "# Example usage:\n",
        "email_body = \"This is an example email body with some common stop words.\"\n",
        "clean_email_body = remove_stop_words(email_body)\n",
        "print(clean_email_body)"
      ],
      "metadata": {
        "colab": {
          "base_uri": "https://localhost:8080/"
        },
        "id": "XltLkApFlEqX",
        "outputId": "bad66131-f372-4656-eccf-4c3280dade7e"
      },
      "execution_count": null,
      "outputs": [
        {
          "output_type": "stream",
          "name": "stdout",
          "text": [
            "example email body common stop words .\n"
          ]
        }
      ]
    },
    {
      "cell_type": "code",
      "source": [
        "df2['Body'] = df2['Body'].apply(remove_stop_words)"
      ],
      "metadata": {
        "id": "6Q2BZuRUqq-T"
      },
      "execution_count": null,
      "outputs": []
    },
    {
      "cell_type": "code",
      "source": [
        "# Convert text data into TF-IDF vectors with stop words removal\n",
        "tfidf_vectorizer = TfidfVectorizer(stop_words='english')\n",
        "x_train_tfidf = tfidf_vectorizer.fit_transform(x_train)\n",
        "x_test_tfidf = tfidf_vectorizer.transform(x_test)"
      ],
      "metadata": {
        "id": "JwkCRQodrSyX"
      },
      "execution_count": null,
      "outputs": []
    },
    {
      "cell_type": "markdown",
      "source": [
        "## Train and evaluate multiple classifiers"
      ],
      "metadata": {
        "id": "VDFNwSgRsxs0"
      }
    },
    {
      "cell_type": "code",
      "source": [
        "# Naive Bayes classifier\n",
        "nb_classifier = MultinomialNB()\n",
        "nb_classifier.fit(x_train_tfidf, y_train)\n",
        "nb_pred = nb_classifier.predict(x_test_tfidf)\n",
        "nb_accuracy = accuracy_score(y_test, nb_pred)\n",
        "print(\"Naive Bayes Accuracy:\", nb_accuracy)"
      ],
      "metadata": {
        "colab": {
          "base_uri": "https://localhost:8080/"
        },
        "id": "7tC435d8sp1O",
        "outputId": "6d1fbd66-40f1-42d1-f993-43e7fce44a50"
      },
      "execution_count": null,
      "outputs": [
        {
          "output_type": "stream",
          "name": "stdout",
          "text": [
            "Naive Bayes Accuracy: 0.7729176361098186\n"
          ]
        }
      ]
    },
    {
      "cell_type": "code",
      "source": [
        "# Support Vector Machine (SVM) classifier\n",
        "svm_classifier = SVC(kernel='linear')\n",
        "svm_classifier.fit(x_train_tfidf, y_train)\n",
        "svm_pred = svm_classifier.predict(x_test_tfidf)\n",
        "svm_accuracy = accuracy_score(y_test, svm_pred)\n",
        "print(\"SVM Accuracy:\", svm_accuracy)"
      ],
      "metadata": {
        "colab": {
          "base_uri": "https://localhost:8080/"
        },
        "id": "oKq-uJw_s7cZ",
        "outputId": "ab890c68-69ed-4fc8-d5e1-73acb1828d40"
      },
      "execution_count": null,
      "outputs": [
        {
          "output_type": "stream",
          "name": "stdout",
          "text": [
            "SVM Accuracy: 0.9823173569101907\n"
          ]
        }
      ]
    },
    {
      "cell_type": "code",
      "source": [
        "# Random Forest classifier\n",
        "rf_classifier = RandomForestClassifier(n_estimators=100, random_state=42)\n",
        "rf_classifier.fit(x_train_tfidf, y_train)\n",
        "rf_pred = rf_classifier.predict(x_test_tfidf)\n",
        "rf_accuracy = accuracy_score(y_test, rf_pred)\n",
        "print(\"Random Forest Accuracy:\", rf_accuracy)"
      ],
      "metadata": {
        "colab": {
          "base_uri": "https://localhost:8080/"
        },
        "id": "MB0Ul6S8tBZy",
        "outputId": "522a357e-ba01-4028-ded7-667fa77e7558"
      },
      "execution_count": null,
      "outputs": [
        {
          "output_type": "stream",
          "name": "stdout",
          "text": [
            "Random Forest Accuracy: 0.9776640297812936\n"
          ]
        }
      ]
    },
    {
      "cell_type": "code",
      "source": [
        "# Logistic Regression classifier\n",
        "lr_classifier = LogisticRegression(max_iter=1000)\n",
        "lr_classifier.fit(x_train_tfidf, y_train)\n",
        "lr_pred = lr_classifier.predict(x_test_tfidf)\n",
        "lr_accuracy = accuracy_score(y_test, lr_pred)\n",
        "print(\"Logistic Regression Accuracy:\", lr_accuracy)"
      ],
      "metadata": {
        "colab": {
          "base_uri": "https://localhost:8080/"
        },
        "id": "HpNbsCRmtFv8",
        "outputId": "0d0bb052-e435-4417-f5bf-e746c0298b85"
      },
      "execution_count": null,
      "outputs": [
        {
          "output_type": "stream",
          "name": "stdout",
          "text": [
            "Logistic Regression Accuracy: 0.9851093531875291\n"
          ]
        }
      ]
    },
    {
      "cell_type": "markdown",
      "source": [
        "## Cross Checking"
      ],
      "metadata": {
        "id": "x2JQQT4JvpaS"
      }
    },
    {
      "cell_type": "code",
      "source": [
        "from sklearn.metrics import precision_score, recall_score, f1_score\n",
        "from sklearn.model_selection import cross_val_score"
      ],
      "metadata": {
        "id": "PuQZcZpbvrNm"
      },
      "execution_count": null,
      "outputs": []
    },
    {
      "cell_type": "code",
      "source": [
        "# Define a function to calculate evaluation metrics\n",
        "def evaluate_model(model, x_train, y_train, x_test, y_test):\n",
        "    # Fit the model\n",
        "    model.fit(x_train, y_train)\n",
        "\n",
        "    # Predictions on training set\n",
        "    train_preds = model.predict(x_train)\n",
        "    # Predictions on testing set\n",
        "    test_preds = model.predict(x_test)\n",
        "\n",
        "    # Calculate evaluation metrics for training set\n",
        "    train_precision = precision_score(y_train, train_preds, average='weighted')\n",
        "    train_recall = recall_score(y_train, train_preds, average='weighted')\n",
        "    train_f1 = f1_score(y_train, train_preds, average='weighted')\n",
        "\n",
        "    # Calculate evaluation metrics for testing set\n",
        "    test_precision = precision_score(y_test, test_preds, average='weighted')\n",
        "    test_recall = recall_score(y_test, test_preds, average='weighted')\n",
        "    test_f1 = f1_score(y_test, test_preds, average='weighted')\n",
        "\n",
        "    return train_precision, train_recall, train_f1, test_precision, test_recall, test_f1"
      ],
      "metadata": {
        "id": "iYbXhNDwvuff"
      },
      "execution_count": null,
      "outputs": []
    },
    {
      "cell_type": "code",
      "source": [
        "# Define models\n",
        "models = {\n",
        "    'Naive Bayes': MultinomialNB(),\n",
        "    'Support Vector Machine': SVC(kernel='linear'),\n",
        "    'Random Forest': RandomForestClassifier(n_estimators=100, random_state=42),\n",
        "    'Logistic Regression': LogisticRegression(max_iter=1000)\n",
        "}"
      ],
      "metadata": {
        "id": "HYreNp4awLHj"
      },
      "execution_count": null,
      "outputs": []
    },
    {
      "cell_type": "code",
      "source": [
        "# Looping through models and evaluating\n",
        "for name, model in models.items():\n",
        "    print(f\"Evaluating {name}...\")\n",
        "    train_precision, train_recall, train_f1, test_precision, test_recall, test_f1 = evaluate_model(model, x_train_tfidf, y_train, x_test_tfidf, y_test)\n",
        "    print(f\"Training Precision: {train_precision:.4f}, Recall: {train_recall:.4f}, F1-score: {train_f1:.4f}\")\n",
        "    print(f\"Testing Precision: {test_precision:.4f}, Recall: {test_recall:.4f}, F1-score: {test_f1:.4f}\")\n"
      ],
      "metadata": {
        "colab": {
          "base_uri": "https://localhost:8080/"
        },
        "id": "c9qkBc_2wUjt",
        "outputId": "badcf094-8b0d-49c0-c7b5-70d954127532"
      },
      "execution_count": null,
      "outputs": [
        {
          "output_type": "stream",
          "name": "stdout",
          "text": [
            "Evaluating Naive Bayes...\n",
            "Training Precision: 0.8359, Recall: 0.7909, F1-score: 0.7713\n",
            "Testing Precision: 0.8203, Recall: 0.7729, F1-score: 0.7456\n",
            "Evaluating Support Vector Machine...\n",
            "Training Precision: 0.9986, Recall: 0.9986, F1-score: 0.9986\n",
            "Testing Precision: 0.9825, Recall: 0.9823, F1-score: 0.9824\n",
            "Evaluating Random Forest...\n",
            "Training Precision: 1.0000, Recall: 1.0000, F1-score: 1.0000\n",
            "Testing Precision: 0.9776, Recall: 0.9777, F1-score: 0.9775\n",
            "Evaluating Logistic Regression...\n",
            "Training Precision: 0.9981, Recall: 0.9981, F1-score: 0.9981\n",
            "Testing Precision: 0.9851, Recall: 0.9851, F1-score: 0.9851\n"
          ]
        }
      ]
    },
    {
      "cell_type": "code",
      "source": [
        "    # Cross-validation for overfitting check\n",
        "    cv_scores = cross_val_score(model, X_tfidf, y, cv=5, scoring='accuracy')\n",
        "    print(f\"Cross-validation scores: {cv_scores}\")\n",
        "    print(f\"Mean CV accuracy: {cv_scores.mean():.4f}, Std CV accuracy: {cv_scores.std():.4f}\")\n",
        "    print(\"\\n\")"
      ],
      "metadata": {
        "colab": {
          "base_uri": "https://localhost:8080/"
        },
        "id": "t8dcAR4VwjxY",
        "outputId": "b1b6d8d0-797c-43ed-a5ab-b97498395fe4"
      },
      "execution_count": null,
      "outputs": [
        {
          "output_type": "stream",
          "name": "stdout",
          "text": [
            "Cross-validation scores: [0.96835738 0.99302001 0.96137738 0.94183341 0.9255121 ]\n",
            "Mean CV accuracy: 0.9580, Std CV accuracy: 0.0231\n",
            "\n",
            "\n"
          ]
        }
      ]
    }
  ]
}